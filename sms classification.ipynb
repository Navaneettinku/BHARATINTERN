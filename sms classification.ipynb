{
 "cells": [
  {
   "cell_type": "markdown",
   "id": "ab96bc13",
   "metadata": {
    "papermill": {
     "duration": 0.009091,
     "end_time": "2023-12-01T02:32:17.112998",
     "exception": false,
     "start_time": "2023-12-01T02:32:17.103907",
     "status": "completed"
    },
    "tags": []
   },
   "source": [
    "# SMS Spam torch ALBERT\n"
   ]
  },
  {
   "cell_type": "markdown",
   "id": "15091720",
   "metadata": {
    "papermill": {
     "duration": 0.008323,
     "end_time": "2023-12-01T02:32:17.129770",
     "exception": false,
     "start_time": "2023-12-01T02:32:17.121447",
     "status": "completed"
    },
    "tags": []
   },
   "source": [
    "ALBERT is a model developed by Google AI, and is a simplified version of BERT that maintains performance while reducing the number of parameters. In the sentence judgment task, it shows performance equal to or better than BERT."
   ]
  },
  {
   "cell_type": "code",
   "execution_count": 47,
   "id": "9124a748",
   "metadata": {
    "execution": {
     "iopub.execute_input": "2023-12-01T02:32:17.149035Z",
     "iopub.status.busy": "2023-12-01T02:32:17.148600Z",
     "iopub.status.idle": "2023-12-01T02:32:27.701670Z",
     "shell.execute_reply": "2023-12-01T02:32:27.700578Z"
    },
    "papermill": {
     "duration": 10.565945,
     "end_time": "2023-12-01T02:32:27.704434",
     "exception": false,
     "start_time": "2023-12-01T02:32:17.138489",
     "status": "completed"
    },
    "scrolled": true,
    "tags": []
   },
   "outputs": [
    {
     "name": "stdout",
     "output_type": "stream",
     "text": [
      "Requirement already satisfied: chardet in c:\\users\\asus\\anaconda3\\lib\\site-packages (4.0.0)\n"
     ]
    }
   ],
   "source": [
    "!pip install chardet"
   ]
  },
  {
   "cell_type": "markdown",
   "id": "5b8a0d81",
   "metadata": {
    "execution": {
     "iopub.execute_input": "2023-06-28T07:17:40.740526Z",
     "iopub.status.busy": "2023-06-28T07:17:40.740151Z",
     "iopub.status.idle": "2023-06-28T07:17:40.744782Z",
     "shell.execute_reply": "2023-06-28T07:17:40.743875Z"
    },
    "papermill": {
     "duration": 0.008802,
     "end_time": "2023-12-01T02:32:27.722800",
     "exception": false,
     "start_time": "2023-12-01T02:32:27.713998",
     "status": "completed"
    },
    "tags": []
   },
   "source": [
    "    debug = False\n",
    "    debug2 = False"
   ]
  },
  {
   "cell_type": "code",
   "execution_count": 48,
   "id": "84305bc8",
   "metadata": {
    "execution": {
     "iopub.execute_input": "2023-12-01T02:32:27.743723Z",
     "iopub.status.busy": "2023-12-01T02:32:27.743325Z",
     "iopub.status.idle": "2023-12-01T02:32:33.355397Z",
     "shell.execute_reply": "2023-12-01T02:32:33.354420Z"
    },
    "papermill": {
     "duration": 5.625567,
     "end_time": "2023-12-01T02:32:33.358365",
     "exception": false,
     "start_time": "2023-12-01T02:32:27.732798",
     "status": "completed"
    },
    "tags": []
   },
   "outputs": [
    {
     "ename": "ModuleNotFoundError",
     "evalue": "No module named 'torch'",
     "output_type": "error",
     "traceback": [
      "\u001b[1;31m---------------------------------------------------------------------------\u001b[0m",
      "\u001b[1;31mModuleNotFoundError\u001b[0m                       Traceback (most recent call last)",
      "Cell \u001b[1;32mIn[48], line 6\u001b[0m\n\u001b[0;32m      4\u001b[0m \u001b[38;5;28;01mfrom\u001b[39;00m \u001b[38;5;21;01msklearn\u001b[39;00m\u001b[38;5;21;01m.\u001b[39;00m\u001b[38;5;21;01mmetrics\u001b[39;00m \u001b[38;5;28;01mimport\u001b[39;00m mean_squared_error\n\u001b[0;32m      5\u001b[0m \u001b[38;5;28;01mfrom\u001b[39;00m \u001b[38;5;21;01msklearn\u001b[39;00m\u001b[38;5;21;01m.\u001b[39;00m\u001b[38;5;21;01mmodel_selection\u001b[39;00m \u001b[38;5;28;01mimport\u001b[39;00m StratifiedKFold\n\u001b[1;32m----> 6\u001b[0m \u001b[38;5;28;01mimport\u001b[39;00m \u001b[38;5;21;01mtorch\u001b[39;00m\n\u001b[0;32m      7\u001b[0m \u001b[38;5;28;01mimport\u001b[39;00m \u001b[38;5;21;01mtorch\u001b[39;00m\u001b[38;5;21;01m.\u001b[39;00m\u001b[38;5;21;01mnn\u001b[39;00m \u001b[38;5;28;01mas\u001b[39;00m \u001b[38;5;21;01mnn\u001b[39;00m\n\u001b[0;32m      8\u001b[0m \u001b[38;5;28;01mfrom\u001b[39;00m \u001b[38;5;21;01mtorch\u001b[39;00m\u001b[38;5;21;01m.\u001b[39;00m\u001b[38;5;21;01mutils\u001b[39;00m\u001b[38;5;21;01m.\u001b[39;00m\u001b[38;5;21;01mdata\u001b[39;00m \u001b[38;5;28;01mimport\u001b[39;00m DataLoader, Dataset\n",
      "\u001b[1;31mModuleNotFoundError\u001b[0m: No module named 'torch'"
     ]
    }
   ],
   "source": [
    "import numpy as np \n",
    "import pandas as pd \n",
    "import os\n",
    "from sklearn.metrics import mean_squared_error\n",
    "from sklearn.model_selection import StratifiedKFold\n",
    "import torch\n",
    "import torch.nn as nn\n",
    "from torch.utils.data import DataLoader, Dataset\n",
    "from tqdm import tqdm\n",
    "import matplotlib.pyplot as plt \n",
    "import transformers\n",
    "import random\n",
    "import chardet\n",
    "import warnings\n",
    "warnings.simplefilter('ignore')\n",
    "scaler = torch.cuda.amp.GradScaler() \n",
    "device = torch.device('cuda' if torch.cuda.is_available() else 'cpu')\n",
    "device"
   ]
  },
  {
   "cell_type": "code",
   "execution_count": null,
   "id": "bbb014c8",
   "metadata": {
    "execution": {
     "iopub.execute_input": "2023-12-01T02:32:33.380693Z",
     "iopub.status.busy": "2023-12-01T02:32:33.380105Z",
     "iopub.status.idle": "2023-12-01T02:32:33.390137Z",
     "shell.execute_reply": "2023-12-01T02:32:33.389272Z"
    },
    "papermill": {
     "duration": 0.02388,
     "end_time": "2023-12-01T02:32:33.392909",
     "exception": false,
     "start_time": "2023-12-01T02:32:33.369029",
     "status": "completed"
    },
    "tags": []
   },
   "outputs": [],
   "source": [
    "def random_seed(SEED):\n",
    "    \n",
    "    random.seed(SEED)\n",
    "    os.environ['PYTHONHASHSEED'] = str(SEED)\n",
    "    np.random.seed(SEED)\n",
    "    torch.manual_seed(SEED)\n",
    "    torch.cuda.manual_seed(SEED)\n",
    "    torch.cuda.manual_seed_all(SEED)\n",
    "    torch.backends.cudnn.deterministic = True\n",
    "    \n",
    "SEED = 508\n",
    "random_seed(SEED)"
   ]
  },
  {
   "cell_type": "code",
   "execution_count": 44,
   "id": "67d4d6d9",
   "metadata": {
    "execution": {
     "iopub.execute_input": "2023-12-01T02:32:33.413423Z",
     "iopub.status.busy": "2023-12-01T02:32:33.413059Z",
     "iopub.status.idle": "2023-12-01T02:32:33.476255Z",
     "shell.execute_reply": "2023-12-01T02:32:33.475067Z"
    },
    "papermill": {
     "duration": 0.076307,
     "end_time": "2023-12-01T02:32:33.479140",
     "exception": false,
     "start_time": "2023-12-01T02:32:33.402833",
     "status": "completed"
    },
    "tags": []
   },
   "outputs": [
    {
     "ename": "FileNotFoundError",
     "evalue": "[Errno 2] No such file or directory: '/kaggle/input/sms-spam-collection-a-more-diverse-dataset/train.csv'",
     "output_type": "error",
     "traceback": [
      "\u001b[1;31m---------------------------------------------------------------------------\u001b[0m",
      "\u001b[1;31mFileNotFoundError\u001b[0m                         Traceback (most recent call last)",
      "Cell \u001b[1;32mIn[44], line 1\u001b[0m\n\u001b[1;32m----> 1\u001b[0m data\u001b[38;5;241m=\u001b[39mpd\u001b[38;5;241m.\u001b[39mread_csv(\u001b[38;5;124m'\u001b[39m\u001b[38;5;124m/kaggle/input/sms-spam-collection-a-more-diverse-dataset/train.csv\u001b[39m\u001b[38;5;124m'\u001b[39m)\n\u001b[0;32m      2\u001b[0m data\u001b[38;5;241m.\u001b[39mcolumns\u001b[38;5;241m=\u001b[39m[\u001b[38;5;124m'\u001b[39m\u001b[38;5;124mtext\u001b[39m\u001b[38;5;124m'\u001b[39m,\u001b[38;5;124m'\u001b[39m\u001b[38;5;124mtargets\u001b[39m\u001b[38;5;124m'\u001b[39m]\n\u001b[0;32m      3\u001b[0m display(data)\n",
      "File \u001b[1;32m~\\anaconda3\\Lib\\site-packages\\pandas\\io\\parsers\\readers.py:912\u001b[0m, in \u001b[0;36mread_csv\u001b[1;34m(filepath_or_buffer, sep, delimiter, header, names, index_col, usecols, dtype, engine, converters, true_values, false_values, skipinitialspace, skiprows, skipfooter, nrows, na_values, keep_default_na, na_filter, verbose, skip_blank_lines, parse_dates, infer_datetime_format, keep_date_col, date_parser, date_format, dayfirst, cache_dates, iterator, chunksize, compression, thousands, decimal, lineterminator, quotechar, quoting, doublequote, escapechar, comment, encoding, encoding_errors, dialect, on_bad_lines, delim_whitespace, low_memory, memory_map, float_precision, storage_options, dtype_backend)\u001b[0m\n\u001b[0;32m    899\u001b[0m kwds_defaults \u001b[38;5;241m=\u001b[39m _refine_defaults_read(\n\u001b[0;32m    900\u001b[0m     dialect,\n\u001b[0;32m    901\u001b[0m     delimiter,\n\u001b[1;32m   (...)\u001b[0m\n\u001b[0;32m    908\u001b[0m     dtype_backend\u001b[38;5;241m=\u001b[39mdtype_backend,\n\u001b[0;32m    909\u001b[0m )\n\u001b[0;32m    910\u001b[0m kwds\u001b[38;5;241m.\u001b[39mupdate(kwds_defaults)\n\u001b[1;32m--> 912\u001b[0m \u001b[38;5;28;01mreturn\u001b[39;00m _read(filepath_or_buffer, kwds)\n",
      "File \u001b[1;32m~\\anaconda3\\Lib\\site-packages\\pandas\\io\\parsers\\readers.py:577\u001b[0m, in \u001b[0;36m_read\u001b[1;34m(filepath_or_buffer, kwds)\u001b[0m\n\u001b[0;32m    574\u001b[0m _validate_names(kwds\u001b[38;5;241m.\u001b[39mget(\u001b[38;5;124m\"\u001b[39m\u001b[38;5;124mnames\u001b[39m\u001b[38;5;124m\"\u001b[39m, \u001b[38;5;28;01mNone\u001b[39;00m))\n\u001b[0;32m    576\u001b[0m \u001b[38;5;66;03m# Create the parser.\u001b[39;00m\n\u001b[1;32m--> 577\u001b[0m parser \u001b[38;5;241m=\u001b[39m TextFileReader(filepath_or_buffer, \u001b[38;5;241m*\u001b[39m\u001b[38;5;241m*\u001b[39mkwds)\n\u001b[0;32m    579\u001b[0m \u001b[38;5;28;01mif\u001b[39;00m chunksize \u001b[38;5;129;01mor\u001b[39;00m iterator:\n\u001b[0;32m    580\u001b[0m     \u001b[38;5;28;01mreturn\u001b[39;00m parser\n",
      "File \u001b[1;32m~\\anaconda3\\Lib\\site-packages\\pandas\\io\\parsers\\readers.py:1407\u001b[0m, in \u001b[0;36mTextFileReader.__init__\u001b[1;34m(self, f, engine, **kwds)\u001b[0m\n\u001b[0;32m   1404\u001b[0m     \u001b[38;5;28mself\u001b[39m\u001b[38;5;241m.\u001b[39moptions[\u001b[38;5;124m\"\u001b[39m\u001b[38;5;124mhas_index_names\u001b[39m\u001b[38;5;124m\"\u001b[39m] \u001b[38;5;241m=\u001b[39m kwds[\u001b[38;5;124m\"\u001b[39m\u001b[38;5;124mhas_index_names\u001b[39m\u001b[38;5;124m\"\u001b[39m]\n\u001b[0;32m   1406\u001b[0m \u001b[38;5;28mself\u001b[39m\u001b[38;5;241m.\u001b[39mhandles: IOHandles \u001b[38;5;241m|\u001b[39m \u001b[38;5;28;01mNone\u001b[39;00m \u001b[38;5;241m=\u001b[39m \u001b[38;5;28;01mNone\u001b[39;00m\n\u001b[1;32m-> 1407\u001b[0m \u001b[38;5;28mself\u001b[39m\u001b[38;5;241m.\u001b[39m_engine \u001b[38;5;241m=\u001b[39m \u001b[38;5;28mself\u001b[39m\u001b[38;5;241m.\u001b[39m_make_engine(f, \u001b[38;5;28mself\u001b[39m\u001b[38;5;241m.\u001b[39mengine)\n",
      "File \u001b[1;32m~\\anaconda3\\Lib\\site-packages\\pandas\\io\\parsers\\readers.py:1661\u001b[0m, in \u001b[0;36mTextFileReader._make_engine\u001b[1;34m(self, f, engine)\u001b[0m\n\u001b[0;32m   1659\u001b[0m     \u001b[38;5;28;01mif\u001b[39;00m \u001b[38;5;124m\"\u001b[39m\u001b[38;5;124mb\u001b[39m\u001b[38;5;124m\"\u001b[39m \u001b[38;5;129;01mnot\u001b[39;00m \u001b[38;5;129;01min\u001b[39;00m mode:\n\u001b[0;32m   1660\u001b[0m         mode \u001b[38;5;241m+\u001b[39m\u001b[38;5;241m=\u001b[39m \u001b[38;5;124m\"\u001b[39m\u001b[38;5;124mb\u001b[39m\u001b[38;5;124m\"\u001b[39m\n\u001b[1;32m-> 1661\u001b[0m \u001b[38;5;28mself\u001b[39m\u001b[38;5;241m.\u001b[39mhandles \u001b[38;5;241m=\u001b[39m get_handle(\n\u001b[0;32m   1662\u001b[0m     f,\n\u001b[0;32m   1663\u001b[0m     mode,\n\u001b[0;32m   1664\u001b[0m     encoding\u001b[38;5;241m=\u001b[39m\u001b[38;5;28mself\u001b[39m\u001b[38;5;241m.\u001b[39moptions\u001b[38;5;241m.\u001b[39mget(\u001b[38;5;124m\"\u001b[39m\u001b[38;5;124mencoding\u001b[39m\u001b[38;5;124m\"\u001b[39m, \u001b[38;5;28;01mNone\u001b[39;00m),\n\u001b[0;32m   1665\u001b[0m     compression\u001b[38;5;241m=\u001b[39m\u001b[38;5;28mself\u001b[39m\u001b[38;5;241m.\u001b[39moptions\u001b[38;5;241m.\u001b[39mget(\u001b[38;5;124m\"\u001b[39m\u001b[38;5;124mcompression\u001b[39m\u001b[38;5;124m\"\u001b[39m, \u001b[38;5;28;01mNone\u001b[39;00m),\n\u001b[0;32m   1666\u001b[0m     memory_map\u001b[38;5;241m=\u001b[39m\u001b[38;5;28mself\u001b[39m\u001b[38;5;241m.\u001b[39moptions\u001b[38;5;241m.\u001b[39mget(\u001b[38;5;124m\"\u001b[39m\u001b[38;5;124mmemory_map\u001b[39m\u001b[38;5;124m\"\u001b[39m, \u001b[38;5;28;01mFalse\u001b[39;00m),\n\u001b[0;32m   1667\u001b[0m     is_text\u001b[38;5;241m=\u001b[39mis_text,\n\u001b[0;32m   1668\u001b[0m     errors\u001b[38;5;241m=\u001b[39m\u001b[38;5;28mself\u001b[39m\u001b[38;5;241m.\u001b[39moptions\u001b[38;5;241m.\u001b[39mget(\u001b[38;5;124m\"\u001b[39m\u001b[38;5;124mencoding_errors\u001b[39m\u001b[38;5;124m\"\u001b[39m, \u001b[38;5;124m\"\u001b[39m\u001b[38;5;124mstrict\u001b[39m\u001b[38;5;124m\"\u001b[39m),\n\u001b[0;32m   1669\u001b[0m     storage_options\u001b[38;5;241m=\u001b[39m\u001b[38;5;28mself\u001b[39m\u001b[38;5;241m.\u001b[39moptions\u001b[38;5;241m.\u001b[39mget(\u001b[38;5;124m\"\u001b[39m\u001b[38;5;124mstorage_options\u001b[39m\u001b[38;5;124m\"\u001b[39m, \u001b[38;5;28;01mNone\u001b[39;00m),\n\u001b[0;32m   1670\u001b[0m )\n\u001b[0;32m   1671\u001b[0m \u001b[38;5;28;01massert\u001b[39;00m \u001b[38;5;28mself\u001b[39m\u001b[38;5;241m.\u001b[39mhandles \u001b[38;5;129;01mis\u001b[39;00m \u001b[38;5;129;01mnot\u001b[39;00m \u001b[38;5;28;01mNone\u001b[39;00m\n\u001b[0;32m   1672\u001b[0m f \u001b[38;5;241m=\u001b[39m \u001b[38;5;28mself\u001b[39m\u001b[38;5;241m.\u001b[39mhandles\u001b[38;5;241m.\u001b[39mhandle\n",
      "File \u001b[1;32m~\\anaconda3\\Lib\\site-packages\\pandas\\io\\common.py:859\u001b[0m, in \u001b[0;36mget_handle\u001b[1;34m(path_or_buf, mode, encoding, compression, memory_map, is_text, errors, storage_options)\u001b[0m\n\u001b[0;32m    854\u001b[0m \u001b[38;5;28;01melif\u001b[39;00m \u001b[38;5;28misinstance\u001b[39m(handle, \u001b[38;5;28mstr\u001b[39m):\n\u001b[0;32m    855\u001b[0m     \u001b[38;5;66;03m# Check whether the filename is to be opened in binary mode.\u001b[39;00m\n\u001b[0;32m    856\u001b[0m     \u001b[38;5;66;03m# Binary mode does not support 'encoding' and 'newline'.\u001b[39;00m\n\u001b[0;32m    857\u001b[0m     \u001b[38;5;28;01mif\u001b[39;00m ioargs\u001b[38;5;241m.\u001b[39mencoding \u001b[38;5;129;01mand\u001b[39;00m \u001b[38;5;124m\"\u001b[39m\u001b[38;5;124mb\u001b[39m\u001b[38;5;124m\"\u001b[39m \u001b[38;5;129;01mnot\u001b[39;00m \u001b[38;5;129;01min\u001b[39;00m ioargs\u001b[38;5;241m.\u001b[39mmode:\n\u001b[0;32m    858\u001b[0m         \u001b[38;5;66;03m# Encoding\u001b[39;00m\n\u001b[1;32m--> 859\u001b[0m         handle \u001b[38;5;241m=\u001b[39m \u001b[38;5;28mopen\u001b[39m(\n\u001b[0;32m    860\u001b[0m             handle,\n\u001b[0;32m    861\u001b[0m             ioargs\u001b[38;5;241m.\u001b[39mmode,\n\u001b[0;32m    862\u001b[0m             encoding\u001b[38;5;241m=\u001b[39mioargs\u001b[38;5;241m.\u001b[39mencoding,\n\u001b[0;32m    863\u001b[0m             errors\u001b[38;5;241m=\u001b[39merrors,\n\u001b[0;32m    864\u001b[0m             newline\u001b[38;5;241m=\u001b[39m\u001b[38;5;124m\"\u001b[39m\u001b[38;5;124m\"\u001b[39m,\n\u001b[0;32m    865\u001b[0m         )\n\u001b[0;32m    866\u001b[0m     \u001b[38;5;28;01melse\u001b[39;00m:\n\u001b[0;32m    867\u001b[0m         \u001b[38;5;66;03m# Binary mode\u001b[39;00m\n\u001b[0;32m    868\u001b[0m         handle \u001b[38;5;241m=\u001b[39m \u001b[38;5;28mopen\u001b[39m(handle, ioargs\u001b[38;5;241m.\u001b[39mmode)\n",
      "\u001b[1;31mFileNotFoundError\u001b[0m: [Errno 2] No such file or directory: '/kaggle/input/sms-spam-collection-a-more-diverse-dataset/train.csv'"
     ]
    }
   ],
   "source": [
    "data=pd.read_csv('/kaggle/input/sms-spam-collection-a-more-diverse-dataset/train.csv')\n",
    "data.columns=['text','targets']\n",
    "display(data)\n",
    "classes=sorted(data['targets'].unique().tolist())\n",
    "print(classes)\n",
    "class_names=list('01')\n",
    "N=list(range(len(class_names)))\n",
    "normal_mapping=dict(zip(class_names,N)) \n",
    "reverse_mapping=dict(zip(N,class_names))       \n",
    "#data['targets']=data['targets'].map(normal_mapping)                   "
   ]
  },
  {
   "cell_type": "code",
   "execution_count": null,
   "id": "b3831545",
   "metadata": {
    "execution": {
     "iopub.execute_input": "2023-12-01T02:32:33.500852Z",
     "iopub.status.busy": "2023-12-01T02:32:33.500148Z",
     "iopub.status.idle": "2023-12-01T02:32:33.510573Z",
     "shell.execute_reply": "2023-12-01T02:32:33.509282Z"
    },
    "papermill": {
     "duration": 0.023205,
     "end_time": "2023-12-01T02:32:33.512521",
     "exception": false,
     "start_time": "2023-12-01T02:32:33.489316",
     "status": "completed"
    },
    "tags": []
   },
   "outputs": [],
   "source": [
    "print(len(data))\n",
    "data=data.sample(frac=1).reset_index(drop=True)[0:1000]"
   ]
  },
  {
   "cell_type": "code",
   "execution_count": null,
   "id": "62ca8ec3",
   "metadata": {
    "execution": {
     "iopub.execute_input": "2023-12-01T02:32:33.533398Z",
     "iopub.status.busy": "2023-12-01T02:32:33.533042Z",
     "iopub.status.idle": "2023-12-01T02:32:33.539243Z",
     "shell.execute_reply": "2023-12-01T02:32:33.538214Z"
    },
    "papermill": {
     "duration": 0.01849,
     "end_time": "2023-12-01T02:32:33.540938",
     "exception": false,
     "start_time": "2023-12-01T02:32:33.522448",
     "status": "completed"
    },
    "tags": []
   },
   "outputs": [],
   "source": [
    "from sklearn.model_selection import train_test_split\n",
    "train, test = train_test_split(data, test_size=0.2, random_state=42)"
   ]
  },
  {
   "cell_type": "code",
   "execution_count": null,
   "id": "30c1622f",
   "metadata": {
    "execution": {
     "iopub.execute_input": "2023-12-01T02:32:33.561508Z",
     "iopub.status.busy": "2023-12-01T02:32:33.561037Z",
     "iopub.status.idle": "2023-12-01T02:32:35.269964Z",
     "shell.execute_reply": "2023-12-01T02:32:35.268783Z"
    },
    "papermill": {
     "duration": 1.72176,
     "end_time": "2023-12-01T02:32:35.272354",
     "exception": false,
     "start_time": "2023-12-01T02:32:33.550594",
     "status": "completed"
    },
    "tags": []
   },
   "outputs": [],
   "source": [
    "tokenizer = transformers.AlbertTokenizer.from_pretrained(\"albert-base-v2\")"
   ]
  },
  {
   "cell_type": "code",
   "execution_count": null,
   "id": "db88847b",
   "metadata": {
    "execution": {
     "iopub.execute_input": "2023-12-01T02:32:35.294042Z",
     "iopub.status.busy": "2023-12-01T02:32:35.293659Z",
     "iopub.status.idle": "2023-12-01T02:32:35.297461Z",
     "shell.execute_reply": "2023-12-01T02:32:35.296831Z"
    },
    "papermill": {
     "duration": 0.016721,
     "end_time": "2023-12-01T02:32:35.299546",
     "exception": false,
     "start_time": "2023-12-01T02:32:35.282825",
     "status": "completed"
    },
    "tags": []
   },
   "outputs": [],
   "source": [
    "#tokenizer = transformers.BertTokenizer.from_pretrained(\"../input/bert-base-uncased\")\n",
    "#tokenizer = transformers.RobertaTokenizer.from_pretrained(\"roberta-base\")"
   ]
  },
  {
   "cell_type": "code",
   "execution_count": null,
   "id": "b2da1471",
   "metadata": {
    "execution": {
     "iopub.execute_input": "2023-12-01T02:32:35.322073Z",
     "iopub.status.busy": "2023-12-01T02:32:35.321258Z",
     "iopub.status.idle": "2023-12-01T02:32:42.324768Z",
     "shell.execute_reply": "2023-12-01T02:32:42.323621Z"
    },
    "papermill": {
     "duration": 7.016439,
     "end_time": "2023-12-01T02:32:42.326846",
     "exception": false,
     "start_time": "2023-12-01T02:32:35.310407",
     "status": "completed"
    },
    "tags": []
   },
   "outputs": [],
   "source": [
    "test_s = train['text'].iloc[0]\n",
    "result1 = tokenizer.encode_plus(test_s)\n",
    "tokenizer.decode(result1[\"input_ids\"])"
   ]
  },
  {
   "cell_type": "code",
   "execution_count": null,
   "id": "ad75d1fb",
   "metadata": {
    "execution": {
     "iopub.execute_input": "2023-12-01T02:32:42.350324Z",
     "iopub.status.busy": "2023-12-01T02:32:42.349769Z",
     "iopub.status.idle": "2023-12-01T02:32:42.354820Z",
     "shell.execute_reply": "2023-12-01T02:32:42.354272Z"
    },
    "papermill": {
     "duration": 0.018881,
     "end_time": "2023-12-01T02:32:42.356954",
     "exception": false,
     "start_time": "2023-12-01T02:32:42.338073",
     "status": "completed"
    },
    "tags": []
   },
   "outputs": [],
   "source": [
    "len(test_s.split(\" \"))"
   ]
  },
  {
   "cell_type": "code",
   "execution_count": null,
   "id": "80bc13ed",
   "metadata": {
    "execution": {
     "iopub.execute_input": "2023-12-01T02:32:42.381381Z",
     "iopub.status.busy": "2023-12-01T02:32:42.380760Z",
     "iopub.status.idle": "2023-12-01T02:32:42.386076Z",
     "shell.execute_reply": "2023-12-01T02:32:42.384895Z"
    },
    "papermill": {
     "duration": 0.020522,
     "end_time": "2023-12-01T02:32:42.388779",
     "exception": false,
     "start_time": "2023-12-01T02:32:42.368257",
     "status": "completed"
    },
    "tags": []
   },
   "outputs": [],
   "source": [
    "result2 = tokenizer.encode_plus(\n",
    "    test_s,\n",
    "    add_special_tokens = True, \n",
    "    max_length = 8, \n",
    "    pad_to_max_length = True, \n",
    "    truncation = True \n",
    ")"
   ]
  },
  {
   "cell_type": "code",
   "execution_count": null,
   "id": "402d8eae",
   "metadata": {
    "execution": {
     "iopub.execute_input": "2023-12-01T02:32:42.412397Z",
     "iopub.status.busy": "2023-12-01T02:32:42.411770Z",
     "iopub.status.idle": "2023-12-01T02:32:42.416825Z",
     "shell.execute_reply": "2023-12-01T02:32:42.416263Z"
    },
    "papermill": {
     "duration": 0.018358,
     "end_time": "2023-12-01T02:32:42.418436",
     "exception": false,
     "start_time": "2023-12-01T02:32:42.400078",
     "status": "completed"
    },
    "tags": []
   },
   "outputs": [],
   "source": [
    "tokenizer.decode(result2[\"input_ids\"])"
   ]
  },
  {
   "cell_type": "code",
   "execution_count": null,
   "id": "7086f331",
   "metadata": {
    "execution": {
     "iopub.execute_input": "2023-12-01T02:32:42.441345Z",
     "iopub.status.busy": "2023-12-01T02:32:42.440669Z",
     "iopub.status.idle": "2023-12-01T02:32:42.450839Z",
     "shell.execute_reply": "2023-12-01T02:32:42.450135Z"
    },
    "papermill": {
     "duration": 0.024322,
     "end_time": "2023-12-01T02:32:42.453271",
     "exception": false,
     "start_time": "2023-12-01T02:32:42.428949",
     "status": "completed"
    },
    "tags": []
   },
   "outputs": [],
   "source": [
    "max_sens = 8\n",
    "train = train.sort_values('targets').reset_index(drop=True)\n",
    "train[\"kfold\"] = train.index % 5\n",
    "p_train = train[train[\"kfold\"]!=0].reset_index(drop=True)\n",
    "p_valid = train[train[\"kfold\"]==0].reset_index(drop=True)\n",
    "p_test=test.reset_index(drop=True)"
   ]
  },
  {
   "cell_type": "markdown",
   "id": "5db8769e",
   "metadata": {
    "papermill": {
     "duration": 0.010943,
     "end_time": "2023-12-01T02:32:42.475541",
     "exception": false,
     "start_time": "2023-12-01T02:32:42.464598",
     "status": "completed"
    },
    "tags": []
   },
   "source": [
    "'token_type_ids' no need in RoBERTa/DeBERTa"
   ]
  },
  {
   "cell_type": "code",
   "execution_count": null,
   "id": "240f1469",
   "metadata": {
    "execution": {
     "iopub.execute_input": "2023-12-01T02:32:42.499459Z",
     "iopub.status.busy": "2023-12-01T02:32:42.498830Z",
     "iopub.status.idle": "2023-12-01T02:32:42.506046Z",
     "shell.execute_reply": "2023-12-01T02:32:42.505187Z"
    },
    "papermill": {
     "duration": 0.021668,
     "end_time": "2023-12-01T02:32:42.507972",
     "exception": false,
     "start_time": "2023-12-01T02:32:42.486304",
     "status": "completed"
    },
    "tags": []
   },
   "outputs": [],
   "source": [
    "class BERTDataSet(Dataset):\n",
    "    \n",
    "    def __init__(self,sentences,targets):        \n",
    "        self.sentences = sentences\n",
    "        self.targets = targets\n",
    "        \n",
    "    def __len__(self):        \n",
    "        return len(self.sentences)\n",
    "    \n",
    "    def __getitem__(self,idx):        \n",
    "        sentence = self.sentences[idx]    \n",
    "        bert_sens = tokenizer.encode_plus(\n",
    "                                sentence,\n",
    "                                add_special_tokens = True, \n",
    "                                max_length = max_sens, \n",
    "                                pad_to_max_length = True, \n",
    "                                return_attention_mask = True)\n",
    "\n",
    "        ids = torch.tensor(bert_sens['input_ids'], dtype=torch.long)\n",
    "        mask = torch.tensor(bert_sens['attention_mask'], dtype=torch.long)\n",
    "\n",
    "        target = torch.tensor(self.targets[idx],dtype=torch.float)\n",
    "        \n",
    "        return {\n",
    "                'ids': ids,\n",
    "                'mask': mask,\n",
    "                'targets': target\n",
    "            }"
   ]
  },
  {
   "cell_type": "code",
   "execution_count": null,
   "id": "7922f766",
   "metadata": {
    "execution": {
     "iopub.execute_input": "2023-12-01T02:32:42.532349Z",
     "iopub.status.busy": "2023-12-01T02:32:42.531851Z",
     "iopub.status.idle": "2023-12-01T02:32:42.538754Z",
     "shell.execute_reply": "2023-12-01T02:32:42.537755Z"
    },
    "papermill": {
     "duration": 0.021419,
     "end_time": "2023-12-01T02:32:42.541173",
     "exception": false,
     "start_time": "2023-12-01T02:32:42.519754",
     "status": "completed"
    },
    "tags": []
   },
   "outputs": [],
   "source": [
    "train_dataset = BERTDataSet(p_train[\"text\"],p_train['targets'])\n",
    "valid_dataset = BERTDataSet(p_valid[\"text\"],p_valid['targets'])\n",
    "test_dataset = BERTDataSet(p_test[\"text\"],p_test['targets'])\n",
    "\n",
    "train_batch = 16\n",
    "valid_batch = 32\n",
    "test_batch = 32\n",
    "\n",
    "train_dataloader = DataLoader(train_dataset,batch_size=train_batch,shuffle = True,num_workers=8,pin_memory=True)\n",
    "valid_dataloader = DataLoader(valid_dataset,batch_size=valid_batch,shuffle = False,num_workers=8,pin_memory=True)\n",
    "test_dataloader = DataLoader(test_dataset,batch_size=test_batch,shuffle = False,num_workers=8,pin_memory=True)"
   ]
  },
  {
   "cell_type": "code",
   "execution_count": null,
   "id": "6a95f4e3",
   "metadata": {
    "execution": {
     "iopub.execute_input": "2023-12-01T02:32:42.565779Z",
     "iopub.status.busy": "2023-12-01T02:32:42.564082Z",
     "iopub.status.idle": "2023-12-01T02:32:44.220336Z",
     "shell.execute_reply": "2023-12-01T02:32:44.219189Z"
    },
    "papermill": {
     "duration": 1.670507,
     "end_time": "2023-12-01T02:32:44.222397",
     "exception": false,
     "start_time": "2023-12-01T02:32:42.551890",
     "status": "completed"
    },
    "tags": []
   },
   "outputs": [],
   "source": [
    "model = transformers.AlbertForSequenceClassification.from_pretrained(\"albert-base-v2\", num_labels=1)"
   ]
  },
  {
   "cell_type": "code",
   "execution_count": 24,
   "id": "66611054",
   "metadata": {
    "execution": {
     "iopub.execute_input": "2023-12-01T02:32:44.247174Z",
     "iopub.status.busy": "2023-12-01T02:32:44.246793Z",
     "iopub.status.idle": "2023-12-01T02:32:44.254008Z",
     "shell.execute_reply": "2023-12-01T02:32:44.252630Z"
    },
    "papermill": {
     "duration": 0.023177,
     "end_time": "2023-12-01T02:32:44.256945",
     "exception": false,
     "start_time": "2023-12-01T02:32:44.233768",
     "status": "completed"
    },
    "tags": []
   },
   "outputs": [],
   "source": [
    "#model = transformers.RobertaForSequenceClassification.from_pretrained(\"roberta-base\", num_labels=1)\n",
    "#model = transformers.BertForSequenceClassification.from_pretrained(\"../input/bert-base-uncased\",num_labels=1)"
   ]
  },
  {
   "cell_type": "code",
   "execution_count": 27,
   "id": "c1137836",
   "metadata": {
    "execution": {
     "iopub.execute_input": "2023-12-01T02:32:44.282378Z",
     "iopub.status.busy": "2023-12-01T02:32:44.281888Z",
     "iopub.status.idle": "2023-12-01T02:32:44.293842Z",
     "shell.execute_reply": "2023-12-01T02:32:44.292791Z"
    },
    "papermill": {
     "duration": 0.027497,
     "end_time": "2023-12-01T02:32:44.295664",
     "exception": false,
     "start_time": "2023-12-01T02:32:44.268167",
     "status": "completed"
    },
    "tags": []
   },
   "outputs": [
    {
     "ename": "NameError",
     "evalue": "name 'model' is not defined",
     "output_type": "error",
     "traceback": [
      "\u001b[1;31m---------------------------------------------------------------------------\u001b[0m",
      "\u001b[1;31mNameError\u001b[0m                                 Traceback (most recent call last)",
      "Cell \u001b[1;32mIn[27], line 1\u001b[0m\n\u001b[1;32m----> 1\u001b[0m model\u001b[38;5;241m.\u001b[39mto(device)\n\u001b[0;32m      2\u001b[0m model\u001b[38;5;241m.\u001b[39mtrain()\n",
      "\u001b[1;31mNameError\u001b[0m: name 'model' is not defined"
     ]
    }
   ],
   "source": [
    "model.to(device)\n",
    "model.train()"
   ]
  },
  {
   "cell_type": "code",
   "execution_count": 28,
   "id": "ad647ac7",
   "metadata": {
    "_kg_hide-output": true,
    "execution": {
     "iopub.execute_input": "2023-12-01T02:32:44.319552Z",
     "iopub.status.busy": "2023-12-01T02:32:44.318945Z",
     "iopub.status.idle": "2023-12-01T02:32:44.928758Z",
     "shell.execute_reply": "2023-12-01T02:32:44.927558Z"
    },
    "papermill": {
     "duration": 0.625658,
     "end_time": "2023-12-01T02:32:44.932553",
     "exception": false,
     "start_time": "2023-12-01T02:32:44.306895",
     "status": "completed"
    },
    "tags": []
   },
   "outputs": [
    {
     "ename": "NameError",
     "evalue": "name 'train_dataloader' is not defined",
     "output_type": "error",
     "traceback": [
      "\u001b[1;31m---------------------------------------------------------------------------\u001b[0m",
      "\u001b[1;31mNameError\u001b[0m                                 Traceback (most recent call last)",
      "Cell \u001b[1;32mIn[28], line 1\u001b[0m\n\u001b[1;32m----> 1\u001b[0m \u001b[38;5;28;01mfor\u001b[39;00m a \u001b[38;5;129;01min\u001b[39;00m train_dataloader:\n\u001b[0;32m      2\u001b[0m     ids \u001b[38;5;241m=\u001b[39m a[\u001b[38;5;124m\"\u001b[39m\u001b[38;5;124mids\u001b[39m\u001b[38;5;124m\"\u001b[39m]\u001b[38;5;241m.\u001b[39mto(device)\n\u001b[0;32m      3\u001b[0m     mask \u001b[38;5;241m=\u001b[39m a[\u001b[38;5;124m\"\u001b[39m\u001b[38;5;124mmask\u001b[39m\u001b[38;5;124m\"\u001b[39m]\u001b[38;5;241m.\u001b[39mto(device)\n",
      "\u001b[1;31mNameError\u001b[0m: name 'train_dataloader' is not defined"
     ]
    }
   ],
   "source": [
    "for a in train_dataloader:\n",
    "    ids = a[\"ids\"].to(device)\n",
    "    mask = a[\"mask\"].to(device)\n",
    "    output = model(ids,mask)\n",
    "    break"
   ]
  },
  {
   "cell_type": "code",
   "execution_count": 29,
   "id": "c5482188",
   "metadata": {
    "execution": {
     "iopub.execute_input": "2023-12-01T02:32:44.957251Z",
     "iopub.status.busy": "2023-12-01T02:32:44.956843Z",
     "iopub.status.idle": "2023-12-01T02:32:44.965383Z",
     "shell.execute_reply": "2023-12-01T02:32:44.964488Z"
    },
    "papermill": {
     "duration": 0.022946,
     "end_time": "2023-12-01T02:32:44.967607",
     "exception": false,
     "start_time": "2023-12-01T02:32:44.944661",
     "status": "completed"
    },
    "tags": []
   },
   "outputs": [
    {
     "ename": "NameError",
     "evalue": "name 'output' is not defined",
     "output_type": "error",
     "traceback": [
      "\u001b[1;31m---------------------------------------------------------------------------\u001b[0m",
      "\u001b[1;31mNameError\u001b[0m                                 Traceback (most recent call last)",
      "Cell \u001b[1;32mIn[29], line 1\u001b[0m\n\u001b[1;32m----> 1\u001b[0m output \u001b[38;5;241m=\u001b[39m output[\u001b[38;5;124m\"\u001b[39m\u001b[38;5;124mlogits\u001b[39m\u001b[38;5;124m\"\u001b[39m]\u001b[38;5;241m.\u001b[39msqueeze(\u001b[38;5;241m-\u001b[39m\u001b[38;5;241m1\u001b[39m)\u001b[38;5;241m.\u001b[39mshape\n",
      "\u001b[1;31mNameError\u001b[0m: name 'output' is not defined"
     ]
    }
   ],
   "source": [
    "output = output[\"logits\"].squeeze(-1).shape"
   ]
  },
  {
   "cell_type": "code",
   "execution_count": 30,
   "id": "9b13adde",
   "metadata": {
    "execution": {
     "iopub.execute_input": "2023-12-01T02:32:44.991942Z",
     "iopub.status.busy": "2023-12-01T02:32:44.991614Z",
     "iopub.status.idle": "2023-12-01T02:32:45.005309Z",
     "shell.execute_reply": "2023-12-01T02:32:45.004507Z"
    },
    "papermill": {
     "duration": 0.027624,
     "end_time": "2023-12-01T02:32:45.007258",
     "exception": false,
     "start_time": "2023-12-01T02:32:44.979634",
     "status": "completed"
    },
    "tags": []
   },
   "outputs": [
    {
     "ename": "NameError",
     "evalue": "name 'model' is not defined",
     "output_type": "error",
     "traceback": [
      "\u001b[1;31m---------------------------------------------------------------------------\u001b[0m",
      "\u001b[1;31mNameError\u001b[0m                                 Traceback (most recent call last)",
      "Cell \u001b[1;32mIn[30], line 3\u001b[0m\n\u001b[0;32m      1\u001b[0m \u001b[38;5;28;01mfrom\u001b[39;00m \u001b[38;5;21;01mtransformers\u001b[39;00m \u001b[38;5;28;01mimport\u001b[39;00m AdamW\n\u001b[0;32m      2\u001b[0m LR\u001b[38;5;241m=\u001b[39m\u001b[38;5;241m2e-5\u001b[39m\n\u001b[1;32m----> 3\u001b[0m optimizer \u001b[38;5;241m=\u001b[39m AdamW(model\u001b[38;5;241m.\u001b[39mparameters(), LR,betas\u001b[38;5;241m=\u001b[39m(\u001b[38;5;241m0.9\u001b[39m, \u001b[38;5;241m0.999\u001b[39m), weight_decay\u001b[38;5;241m=\u001b[39m\u001b[38;5;241m1e-2\u001b[39m)\n",
      "\u001b[1;31mNameError\u001b[0m: name 'model' is not defined"
     ]
    }
   ],
   "source": [
    "from transformers import AdamW\n",
    "LR=2e-5\n",
    "optimizer = AdamW(model.parameters(), LR,betas=(0.9, 0.999), weight_decay=1e-2) "
   ]
  },
  {
   "cell_type": "code",
   "execution_count": 31,
   "id": "4fdde97f",
   "metadata": {
    "_kg_hide-output": true,
    "execution": {
     "iopub.execute_input": "2023-12-01T02:32:45.032367Z",
     "iopub.status.busy": "2023-12-01T02:32:45.031936Z",
     "iopub.status.idle": "2023-12-01T02:32:45.038159Z",
     "shell.execute_reply": "2023-12-01T02:32:45.036719Z"
    },
    "papermill": {
     "duration": 0.020934,
     "end_time": "2023-12-01T02:32:45.040012",
     "exception": false,
     "start_time": "2023-12-01T02:32:45.019078",
     "status": "completed"
    },
    "tags": []
   },
   "outputs": [
    {
     "ename": "NameError",
     "evalue": "name 'p_train' is not defined",
     "output_type": "error",
     "traceback": [
      "\u001b[1;31m---------------------------------------------------------------------------\u001b[0m",
      "\u001b[1;31mNameError\u001b[0m                                 Traceback (most recent call last)",
      "Cell \u001b[1;32mIn[31], line 5\u001b[0m\n\u001b[0;32m      2\u001b[0m epochs \u001b[38;5;241m=\u001b[39m \u001b[38;5;241m20\u001b[39m\n\u001b[0;32m      3\u001b[0m \u001b[38;5;66;03m#if debug:\u001b[39;00m\n\u001b[0;32m      4\u001b[0m \u001b[38;5;66;03m#    epochs = 1\u001b[39;00m\n\u001b[1;32m----> 5\u001b[0m train_steps \u001b[38;5;241m=\u001b[39m \u001b[38;5;28mint\u001b[39m(\u001b[38;5;28mlen\u001b[39m(p_train)\u001b[38;5;241m/\u001b[39mtrain_batch\u001b[38;5;241m*\u001b[39mepochs)\n\u001b[0;32m      6\u001b[0m \u001b[38;5;28mprint\u001b[39m(train_steps)\n\u001b[0;32m      7\u001b[0m num_steps \u001b[38;5;241m=\u001b[39m \u001b[38;5;28mint\u001b[39m(train_steps\u001b[38;5;241m*\u001b[39m\u001b[38;5;241m0.1\u001b[39m)\n",
      "\u001b[1;31mNameError\u001b[0m: name 'p_train' is not defined"
     ]
    }
   ],
   "source": [
    "from transformers import get_linear_schedule_with_warmup\n",
    "epochs = 20\n",
    "#if debug:\n",
    "#    epochs = 1\n",
    "train_steps = int(len(p_train)/train_batch*epochs)\n",
    "print(train_steps)\n",
    "num_steps = int(train_steps*0.1)\n",
    "scheduler = get_linear_schedule_with_warmup(optimizer, num_steps, train_steps)"
   ]
  },
  {
   "cell_type": "code",
   "execution_count": 32,
   "id": "128a7733",
   "metadata": {
    "execution": {
     "iopub.execute_input": "2023-12-01T02:32:45.068247Z",
     "iopub.status.busy": "2023-12-01T02:32:45.067506Z",
     "iopub.status.idle": "2023-12-01T02:32:45.072997Z",
     "shell.execute_reply": "2023-12-01T02:32:45.071585Z"
    },
    "papermill": {
     "duration": 0.023712,
     "end_time": "2023-12-01T02:32:45.075427",
     "exception": false,
     "start_time": "2023-12-01T02:32:45.051715",
     "status": "completed"
    },
    "tags": []
   },
   "outputs": [],
   "source": [
    "def loss_fn(output,target):\n",
    "    return torch.sqrt(nn.MSELoss()(output,target))"
   ]
  },
  {
   "cell_type": "markdown",
   "id": "42215ab1",
   "metadata": {
    "papermill": {
     "duration": 0.011522,
     "end_time": "2023-12-01T02:32:45.101690",
     "exception": false,
     "start_time": "2023-12-01T02:32:45.090168",
     "status": "completed"
    },
    "tags": []
   },
   "source": [
    "# def training"
   ]
  },
  {
   "cell_type": "code",
   "execution_count": 33,
   "id": "086121fd",
   "metadata": {
    "execution": {
     "iopub.execute_input": "2023-12-01T02:32:45.126200Z",
     "iopub.status.busy": "2023-12-01T02:32:45.125610Z",
     "iopub.status.idle": "2023-12-01T02:32:45.133216Z",
     "shell.execute_reply": "2023-12-01T02:32:45.132619Z"
    },
    "papermill": {
     "duration": 0.022916,
     "end_time": "2023-12-01T02:32:45.135883",
     "exception": false,
     "start_time": "2023-12-01T02:32:45.112967",
     "status": "completed"
    },
    "tags": []
   },
   "outputs": [],
   "source": [
    "def training(\n",
    "    train_dataloader,\n",
    "    model,\n",
    "    optimizer,\n",
    "    scheduler\n",
    "):\n",
    "    \n",
    "    model.train()\n",
    "    torch.backends.cudnn.benchmark = True\n",
    "    allpreds = []\n",
    "    alltargets = []\n",
    "\n",
    "    for a in train_dataloader:\n",
    "\n",
    "        losses = []\n",
    "        optimizer.zero_grad()\n",
    "\n",
    "        with torch.cuda.amp.autocast():\n",
    "\n",
    "            ids = a[\"ids\"].to(device,non_blocking=True)\n",
    "            mask = a[\"mask\"].to(device,non_blocking=True)\n",
    "\n",
    "            output = model(ids,mask)\n",
    "            output = output[\"logits\"].squeeze(-1)\n",
    "            target = a[\"targets\"].to(device,non_blocking=True)\n",
    "            loss = loss_fn(output,target)\n",
    "\n",
    "            losses.append(loss.item())\n",
    "            allpreds.append(output.detach().cpu().numpy())\n",
    "            alltargets.append(target.detach().squeeze(-1).cpu().numpy())\n",
    "\n",
    "        scaler.scale(loss).backward() \n",
    "        scaler.step(optimizer) \n",
    "        scaler.update() \n",
    "        \n",
    "        del loss \n",
    "\n",
    "        scheduler.step() \n",
    "\n",
    "    allpreds = np.concatenate(allpreds)\n",
    "    alltargets = np.concatenate(alltargets)\n",
    "    losses = np.mean(losses)\n",
    "    train_rme_loss = np.sqrt(mean_squared_error(alltargets,allpreds))\n",
    "\n",
    "    return losses,train_rme_loss\n",
    "#losses,train_rme_loss"
   ]
  },
  {
   "cell_type": "markdown",
   "id": "da3a8899",
   "metadata": {
    "papermill": {
     "duration": 0.014201,
     "end_time": "2023-12-01T02:32:45.162841",
     "exception": false,
     "start_time": "2023-12-01T02:32:45.148640",
     "status": "completed"
    },
    "tags": []
   },
   "source": [
    "# def validating"
   ]
  },
  {
   "cell_type": "code",
   "execution_count": 34,
   "id": "74ad9d09",
   "metadata": {
    "execution": {
     "iopub.execute_input": "2023-12-01T02:32:45.190768Z",
     "iopub.status.busy": "2023-12-01T02:32:45.190170Z",
     "iopub.status.idle": "2023-12-01T02:32:45.197672Z",
     "shell.execute_reply": "2023-12-01T02:32:45.196666Z"
    },
    "papermill": {
     "duration": 0.025226,
     "end_time": "2023-12-01T02:32:45.200509",
     "exception": false,
     "start_time": "2023-12-01T02:32:45.175283",
     "status": "completed"
    },
    "tags": []
   },
   "outputs": [],
   "source": [
    "def validating(valid_dataloader,model):\n",
    "    \n",
    "    model.eval()\n",
    "    allpreds = []\n",
    "    alltargets = []\n",
    "\n",
    "    for a in valid_dataloader:\n",
    "        losses = []\n",
    "        with torch.no_grad():\n",
    "\n",
    "            ids = a[\"ids\"].to(device)\n",
    "            mask = a[\"mask\"].to(device)\n",
    "\n",
    "            output = model(ids,mask)\n",
    "            output = output[\"logits\"].squeeze(-1)\n",
    "            target = a[\"targets\"].to(device)\n",
    "            loss = loss_fn(output,target)\n",
    "            losses.append(loss.item())\n",
    "            allpreds.append(output.detach().cpu().numpy())\n",
    "            alltargets.append(target.detach().squeeze(-1).cpu().numpy())\n",
    "            \n",
    "            del loss\n",
    "\n",
    "    allpreds = np.concatenate(allpreds)\n",
    "    alltargets = np.concatenate(alltargets)\n",
    "    losses = np.mean(losses)\n",
    "    valid_rme_loss = np.sqrt(mean_squared_error(alltargets,allpreds))\n",
    "\n",
    "    return allpreds,losses,valid_rme_loss"
   ]
  },
  {
   "cell_type": "markdown",
   "id": "f5103082",
   "metadata": {
    "_kg_hide-output": true,
    "execution": {
     "iopub.execute_input": "2023-06-28T07:18:50.544897Z",
     "iopub.status.busy": "2023-06-28T07:18:50.542988Z",
     "iopub.status.idle": "2023-06-28T07:20:42.634766Z",
     "shell.execute_reply": "2023-06-28T07:20:42.633451Z"
    },
    "papermill": {
     "duration": 0.011226,
     "end_time": "2023-12-01T02:32:45.224018",
     "exception": false,
     "start_time": "2023-12-01T02:32:45.212792",
     "status": "completed"
    },
    "tags": []
   },
   "source": [
    "    if debug2 == False:\n",
    "        for a in range(epochs):\n",
    "            for b in train_dataloader:\n",
    "                break\n",
    "\n",
    "        losses,train_rme_loss = training(train_dataloader,model,optimizer,scheduler)\n",
    "\n",
    "        for a in valid_dataloader:\n",
    "            break"
   ]
  },
  {
   "cell_type": "markdown",
   "id": "36db6f72",
   "metadata": {
    "papermill": {
     "duration": 0.011917,
     "end_time": "2023-12-01T02:32:45.247457",
     "exception": false,
     "start_time": "2023-12-01T02:32:45.235540",
     "status": "completed"
    },
    "tags": []
   },
   "source": [
    "# training and validating"
   ]
  },
  {
   "cell_type": "code",
   "execution_count": 35,
   "id": "79596e8a",
   "metadata": {
    "execution": {
     "iopub.execute_input": "2023-12-01T02:32:45.275160Z",
     "iopub.status.busy": "2023-12-01T02:32:45.274587Z",
     "iopub.status.idle": "2023-12-01T02:42:31.144299Z",
     "shell.execute_reply": "2023-12-01T02:42:31.143173Z"
    },
    "papermill": {
     "duration": 585.917125,
     "end_time": "2023-12-01T02:42:31.176966",
     "exception": false,
     "start_time": "2023-12-01T02:32:45.259841",
     "status": "completed"
    },
    "tags": []
   },
   "outputs": [
    {
     "ename": "NameError",
     "evalue": "name 'tqdm' is not defined",
     "output_type": "error",
     "traceback": [
      "\u001b[1;31m---------------------------------------------------------------------------\u001b[0m",
      "\u001b[1;31mNameError\u001b[0m                                 Traceback (most recent call last)",
      "Cell \u001b[1;32mIn[35], line 7\u001b[0m\n\u001b[0;32m      4\u001b[0m trainscores \u001b[38;5;241m=\u001b[39m []\n\u001b[0;32m      5\u001b[0m validscores \u001b[38;5;241m=\u001b[39m []\n\u001b[1;32m----> 7\u001b[0m \u001b[38;5;28;01mfor\u001b[39;00m epoch \u001b[38;5;129;01min\u001b[39;00m tqdm(\u001b[38;5;28mrange\u001b[39m(epochs)):\n\u001b[0;32m      9\u001b[0m     \u001b[38;5;28mprint\u001b[39m(\u001b[38;5;124m\"\u001b[39m\u001b[38;5;124m---------------\u001b[39m\u001b[38;5;124m\"\u001b[39m \u001b[38;5;241m+\u001b[39m \u001b[38;5;28mstr\u001b[39m(epoch) \u001b[38;5;241m+\u001b[39m \u001b[38;5;124m\"\u001b[39m\u001b[38;5;124mstart-------------\u001b[39m\u001b[38;5;124m\"\u001b[39m)\n\u001b[0;32m     11\u001b[0m     trainloss,trainscore \u001b[38;5;241m=\u001b[39m training(train_dataloader,model,optimizer,scheduler)    \n",
      "\u001b[1;31mNameError\u001b[0m: name 'tqdm' is not defined"
     ]
    }
   ],
   "source": [
    "trainlosses = []\n",
    "vallosses = []\n",
    "bestscore = None\n",
    "trainscores = []\n",
    "validscores = []\n",
    "\n",
    "for epoch in tqdm(range(epochs)):\n",
    "    \n",
    "    print(\"---------------\" + str(epoch) + \"start-------------\")\n",
    "    \n",
    "    trainloss,trainscore = training(train_dataloader,model,optimizer,scheduler)    \n",
    "    trainlosses.append(trainloss)\n",
    "    trainscores.append(trainscore)\n",
    "    \n",
    "    print(\"trainscore is \" + str(trainscore))\n",
    "    \n",
    "    preds,validloss,valscore=validating(valid_dataloader,model)    \n",
    "    vallosses.append(validloss)\n",
    "    validscores.append(valscore)\n",
    "    \n",
    "    print(\"valscore is \" + str(valscore))\n",
    "    \n",
    "    if bestscore is None:\n",
    "        bestscore = valscore\n",
    "        \n",
    "        print(\"Save first model\")\n",
    "        \n",
    "        state = {\n",
    "                        'state_dict': model.state_dict(),\n",
    "                        'optimizer_dict': optimizer.state_dict(),\n",
    "                        \"bestscore\":bestscore\n",
    "                    }\n",
    "            \n",
    "        torch.save(state, \"model0.pth\")\n",
    "        \n",
    "    elif bestscore > valscore:\n",
    "        \n",
    "        bestscore = valscore        \n",
    "        print(\"found better point\")        \n",
    "        state = {\n",
    "                        'state_dict': model.state_dict(),\n",
    "                        'optimizer_dict': optimizer.state_dict(),\n",
    "                        \"bestscore\":bestscore\n",
    "                    }\n",
    "            \n",
    "        torch.save(state, \"model0.pth\")\n",
    "        \n",
    "    else:\n",
    "        pass\n",
    "    "
   ]
  },
  {
   "cell_type": "code",
   "execution_count": 36,
   "id": "8e1dc65d",
   "metadata": {
    "execution": {
     "iopub.execute_input": "2023-12-01T02:42:31.244786Z",
     "iopub.status.busy": "2023-12-01T02:42:31.244372Z",
     "iopub.status.idle": "2023-12-01T02:42:31.893845Z",
     "shell.execute_reply": "2023-12-01T02:42:31.892900Z"
    },
    "papermill": {
     "duration": 0.685004,
     "end_time": "2023-12-01T02:42:31.895915",
     "exception": false,
     "start_time": "2023-12-01T02:42:31.210911",
     "status": "completed"
    },
    "tags": []
   },
   "outputs": [
    {
     "ename": "NameError",
     "evalue": "name 'plt' is not defined",
     "output_type": "error",
     "traceback": [
      "\u001b[1;31m---------------------------------------------------------------------------\u001b[0m",
      "\u001b[1;31mNameError\u001b[0m                                 Traceback (most recent call last)",
      "Cell \u001b[1;32mIn[36], line 1\u001b[0m\n\u001b[1;32m----> 1\u001b[0m plt\u001b[38;5;241m.\u001b[39mscatter(p_valid[\u001b[38;5;124m'\u001b[39m\u001b[38;5;124mtargets\u001b[39m\u001b[38;5;124m'\u001b[39m],preds, alpha\u001b[38;5;241m=\u001b[39m\u001b[38;5;241m0.2\u001b[39m)\n\u001b[0;32m      2\u001b[0m plt\u001b[38;5;241m.\u001b[39mtitle(\u001b[38;5;124m'\u001b[39m\u001b[38;5;124mValidation Prediction Result\u001b[39m\u001b[38;5;124m'\u001b[39m)\n\u001b[0;32m      3\u001b[0m plt\u001b[38;5;241m.\u001b[39mxlabel(\u001b[38;5;124m'\u001b[39m\u001b[38;5;124mActual\u001b[39m\u001b[38;5;124m'\u001b[39m)\n",
      "\u001b[1;31mNameError\u001b[0m: name 'plt' is not defined"
     ]
    }
   ],
   "source": [
    "plt.scatter(p_valid['targets'],preds, alpha=0.2)\n",
    "plt.title('Validation Prediction Result')\n",
    "plt.xlabel('Actual')\n",
    "plt.ylabel('Prediction')\n",
    "plt.show()\n",
    "\n",
    "x = np.arange(epochs)\n",
    "plt.title('Validation Losses')\n",
    "plt.xlabel('Epoch')\n",
    "plt.ylabel('Loss')\n",
    "plt.plot(x,trainlosses)\n",
    "plt.plot(x,vallosses)\n",
    "plt.show()\n",
    "\n",
    "x = np.arange(epochs)\n",
    "plt.title('Validation Scores')\n",
    "plt.xlabel('Epoch')\n",
    "plt.ylabel('Score')\n",
    "plt.plot(x,trainscores)\n",
    "plt.plot(x,validscores)\n",
    "plt.show()"
   ]
  },
  {
   "cell_type": "code",
   "execution_count": 37,
   "id": "8e777b70",
   "metadata": {
    "execution": {
     "iopub.execute_input": "2023-12-01T02:42:31.962104Z",
     "iopub.status.busy": "2023-12-01T02:42:31.960890Z",
     "iopub.status.idle": "2023-12-01T02:42:31.974171Z",
     "shell.execute_reply": "2023-12-01T02:42:31.973190Z"
    },
    "papermill": {
     "duration": 0.048605,
     "end_time": "2023-12-01T02:42:31.976523",
     "exception": false,
     "start_time": "2023-12-01T02:42:31.927918",
     "status": "completed"
    },
    "tags": []
   },
   "outputs": [
    {
     "ename": "NameError",
     "evalue": "name 'p_valid' is not defined",
     "output_type": "error",
     "traceback": [
      "\u001b[1;31m---------------------------------------------------------------------------\u001b[0m",
      "\u001b[1;31mNameError\u001b[0m                                 Traceback (most recent call last)",
      "Cell \u001b[1;32mIn[37], line 1\u001b[0m\n\u001b[1;32m----> 1\u001b[0m val_true \u001b[38;5;241m=\u001b[39m p_valid[\u001b[38;5;124m'\u001b[39m\u001b[38;5;124mtargets\u001b[39m\u001b[38;5;124m'\u001b[39m]\n\u001b[0;32m      2\u001b[0m val_pred \u001b[38;5;241m=\u001b[39m []\n\u001b[0;32m      3\u001b[0m \u001b[38;5;28;01mfor\u001b[39;00m p \u001b[38;5;129;01min\u001b[39;00m preds:\n",
      "\u001b[1;31mNameError\u001b[0m: name 'p_valid' is not defined"
     ]
    }
   ],
   "source": [
    "val_true = p_valid['targets']\n",
    "val_pred = []\n",
    "for p in preds:\n",
    "    val_pred+=[round(p,0)]\n",
    "\n",
    "from sklearn.metrics import classification_report\n",
    "print(classification_report(val_true,val_pred,target_names=class_names,digits=4))"
   ]
  },
  {
   "cell_type": "markdown",
   "id": "4b8af4bf",
   "metadata": {
    "papermill": {
     "duration": 0.03276,
     "end_time": "2023-12-01T02:42:32.043592",
     "exception": false,
     "start_time": "2023-12-01T02:42:32.010832",
     "status": "completed"
    },
    "tags": []
   },
   "source": [
    "# save model"
   ]
  },
  {
   "cell_type": "code",
   "execution_count": 38,
   "id": "2981cf14",
   "metadata": {
    "_kg_hide-output": true,
    "execution": {
     "iopub.execute_input": "2023-12-01T02:42:32.113542Z",
     "iopub.status.busy": "2023-12-01T02:42:32.112680Z",
     "iopub.status.idle": "2023-12-01T03:23:31.527757Z",
     "shell.execute_reply": "2023-12-01T03:23:31.526068Z"
    },
    "papermill": {
     "duration": 2459.454221,
     "end_time": "2023-12-01T03:23:31.531005",
     "exception": false,
     "start_time": "2023-12-01T02:42:32.076784",
     "status": "completed"
    },
    "tags": []
   },
   "outputs": [
    {
     "ename": "NameError",
     "evalue": "name 'train' is not defined",
     "output_type": "error",
     "traceback": [
      "\u001b[1;31m---------------------------------------------------------------------------\u001b[0m",
      "\u001b[1;31mNameError\u001b[0m                                 Traceback (most recent call last)",
      "Cell \u001b[1;32mIn[38], line 7\u001b[0m\n\u001b[0;32m      2\u001b[0m bestscores\u001b[38;5;241m.\u001b[39mappend(bestscore)\n\u001b[0;32m      4\u001b[0m \u001b[38;5;28;01mfor\u001b[39;00m fold \u001b[38;5;129;01min\u001b[39;00m \u001b[38;5;28mrange\u001b[39m(\u001b[38;5;241m1\u001b[39m,\u001b[38;5;241m5\u001b[39m):\n\u001b[0;32m      5\u001b[0m     \n\u001b[0;32m      6\u001b[0m     \u001b[38;5;66;03m# initializing the data\u001b[39;00m\n\u001b[1;32m----> 7\u001b[0m     p_train \u001b[38;5;241m=\u001b[39m train[train[\u001b[38;5;124m\"\u001b[39m\u001b[38;5;124mkfold\u001b[39m\u001b[38;5;124m\"\u001b[39m]\u001b[38;5;241m!=\u001b[39mfold]\u001b[38;5;241m.\u001b[39mreset_index(drop\u001b[38;5;241m=\u001b[39m\u001b[38;5;28;01mTrue\u001b[39;00m)\n\u001b[0;32m      8\u001b[0m     p_valid \u001b[38;5;241m=\u001b[39m train[train[\u001b[38;5;124m\"\u001b[39m\u001b[38;5;124mkfold\u001b[39m\u001b[38;5;124m\"\u001b[39m]\u001b[38;5;241m==\u001b[39mfold]\u001b[38;5;241m.\u001b[39mreset_index(drop\u001b[38;5;241m=\u001b[39m\u001b[38;5;28;01mTrue\u001b[39;00m)\n\u001b[0;32m     10\u001b[0m     train_dataset \u001b[38;5;241m=\u001b[39m BERTDataSet(p_train[\u001b[38;5;124m\"\u001b[39m\u001b[38;5;124mtext\u001b[39m\u001b[38;5;124m\"\u001b[39m],p_train[\u001b[38;5;124m'\u001b[39m\u001b[38;5;124mtargets\u001b[39m\u001b[38;5;124m'\u001b[39m])\n",
      "\u001b[1;31mNameError\u001b[0m: name 'train' is not defined"
     ]
    }
   ],
   "source": [
    "bestscores = []\n",
    "bestscores.append(bestscore)\n",
    "\n",
    "for fold in range(1,5):\n",
    "    \n",
    "    # initializing the data\n",
    "    p_train = train[train[\"kfold\"]!=fold].reset_index(drop=True)\n",
    "    p_valid = train[train[\"kfold\"]==fold].reset_index(drop=True)\n",
    "\n",
    "    train_dataset = BERTDataSet(p_train[\"text\"],p_train['targets'])\n",
    "    valid_dataset = BERTDataSet(p_valid[\"text\"],p_valid['targets'])\n",
    "\n",
    "    train_dataloader = DataLoader(train_dataset,batch_size=train_batch,shuffle = True,num_workers=4,pin_memory=True)\n",
    "    valid_dataloader = DataLoader(valid_dataset,batch_size=valid_batch,shuffle = False,num_workers=4,pin_memory=True)\n",
    "\n",
    "    model = transformers.AlbertForSequenceClassification.from_pretrained(\"albert-base-v2\", num_labels=1)\n",
    "\n",
    "    model.to(device)\n",
    "    LR=2e-5\n",
    "    optimizer = AdamW(model.parameters(), LR,betas=(0.9, 0.999), weight_decay=1e-2) # AdamW optimizer\n",
    "    train_steps = int(len(p_train)/train_batch*epochs)\n",
    "    num_steps = int(train_steps*0.1)\n",
    "    scheduler = get_linear_schedule_with_warmup(optimizer, num_steps, train_steps)\n",
    "\n",
    "    trainlosses = []\n",
    "    vallosses = []\n",
    "    bestscore = None\n",
    "    trainscores = []\n",
    "    validscores = []\n",
    "\n",
    "    for epoch in tqdm(range(epochs)):\n",
    "\n",
    "        print(\"---------------\" + str(epoch) + \"start-------------\")\n",
    "\n",
    "        trainloss,trainscore = training(train_dataloader,model,optimizer,scheduler)\n",
    "        trainlosses.append(trainloss)\n",
    "        trainscores.append(trainscore)\n",
    "\n",
    "        print(\"trainscore is \" + str(trainscore))\n",
    "\n",
    "        preds,validloss,valscore=validating(valid_dataloader,model)\n",
    "        vallosses.append(validloss)\n",
    "        validscores.append(valscore)\n",
    "\n",
    "        print(\"valscore is \" + str(valscore))\n",
    "\n",
    "        if bestscore is None:\n",
    "            bestscore = valscore\n",
    "\n",
    "            print(\"Save first model\")\n",
    "\n",
    "            state = {\n",
    "                            'state_dict': model.state_dict(),\n",
    "                            'optimizer_dict': optimizer.state_dict(),\n",
    "                            \"bestscore\":bestscore\n",
    "                        }\n",
    "\n",
    "            torch.save(state, \"model\" + str(fold) + \".pth\") \n",
    "\n",
    "        elif bestscore > valscore:\n",
    "            bestscore = valscore\n",
    "            print(\"found better point\")\n",
    "\n",
    "            state = {\n",
    "                            'state_dict': model.state_dict(),\n",
    "                            'optimizer_dict': optimizer.state_dict(),\n",
    "                            \"bestscore\":bestscore\n",
    "                        }\n",
    "            torch.save(state, \"model\"+ str(fold) + \".pth\")\n",
    "\n",
    "        else:\n",
    "            pass\n",
    "\n",
    "\n",
    "    bestscores.append(bestscore)"
   ]
  },
  {
   "cell_type": "code",
   "execution_count": 39,
   "id": "18b81a3c",
   "metadata": {
    "execution": {
     "iopub.execute_input": "2023-12-01T03:23:31.709219Z",
     "iopub.status.busy": "2023-12-01T03:23:31.708845Z",
     "iopub.status.idle": "2023-12-01T03:23:31.716735Z",
     "shell.execute_reply": "2023-12-01T03:23:31.715627Z"
    },
    "papermill": {
     "duration": 0.100434,
     "end_time": "2023-12-01T03:23:31.719260",
     "exception": false,
     "start_time": "2023-12-01T03:23:31.618826",
     "status": "completed"
    },
    "tags": []
   },
   "outputs": [
    {
     "data": {
      "text/plain": [
       "[None]"
      ]
     },
     "execution_count": 39,
     "metadata": {},
     "output_type": "execute_result"
    }
   ],
   "source": [
    "bestscores"
   ]
  },
  {
   "cell_type": "code",
   "execution_count": 40,
   "id": "07a56944",
   "metadata": {
    "execution": {
     "iopub.execute_input": "2023-12-01T03:23:31.983081Z",
     "iopub.status.busy": "2023-12-01T03:23:31.982663Z",
     "iopub.status.idle": "2023-12-01T03:23:31.988361Z",
     "shell.execute_reply": "2023-12-01T03:23:31.987309Z"
    },
    "papermill": {
     "duration": 0.184392,
     "end_time": "2023-12-01T03:23:31.990732",
     "exception": false,
     "start_time": "2023-12-01T03:23:31.806340",
     "status": "completed"
    },
    "tags": []
   },
   "outputs": [
    {
     "ename": "TypeError",
     "evalue": "unsupported operand type(s) for /: 'NoneType' and 'int'",
     "output_type": "error",
     "traceback": [
      "\u001b[1;31m---------------------------------------------------------------------------\u001b[0m",
      "\u001b[1;31mTypeError\u001b[0m                                 Traceback (most recent call last)",
      "Cell \u001b[1;32mIn[40], line 1\u001b[0m\n\u001b[1;32m----> 1\u001b[0m np\u001b[38;5;241m.\u001b[39mmean(bestscores)\n\u001b[0;32m      2\u001b[0m \u001b[38;5;28mprint\u001b[39m(\u001b[38;5;124m\"\u001b[39m\u001b[38;5;124mcv = \u001b[39m\u001b[38;5;124m\"\u001b[39m \u001b[38;5;241m+\u001b[39m \u001b[38;5;28mstr\u001b[39m(np\u001b[38;5;241m.\u001b[39mmean(bestscores)))\n",
      "File \u001b[1;32m<__array_function__ internals>:200\u001b[0m, in \u001b[0;36mmean\u001b[1;34m(*args, **kwargs)\u001b[0m\n",
      "File \u001b[1;32m~\\anaconda3\\Lib\\site-packages\\numpy\\core\\fromnumeric.py:3464\u001b[0m, in \u001b[0;36mmean\u001b[1;34m(a, axis, dtype, out, keepdims, where)\u001b[0m\n\u001b[0;32m   3461\u001b[0m     \u001b[38;5;28;01melse\u001b[39;00m:\n\u001b[0;32m   3462\u001b[0m         \u001b[38;5;28;01mreturn\u001b[39;00m mean(axis\u001b[38;5;241m=\u001b[39maxis, dtype\u001b[38;5;241m=\u001b[39mdtype, out\u001b[38;5;241m=\u001b[39mout, \u001b[38;5;241m*\u001b[39m\u001b[38;5;241m*\u001b[39mkwargs)\n\u001b[1;32m-> 3464\u001b[0m \u001b[38;5;28;01mreturn\u001b[39;00m _methods\u001b[38;5;241m.\u001b[39m_mean(a, axis\u001b[38;5;241m=\u001b[39maxis, dtype\u001b[38;5;241m=\u001b[39mdtype,\n\u001b[0;32m   3465\u001b[0m                       out\u001b[38;5;241m=\u001b[39mout, \u001b[38;5;241m*\u001b[39m\u001b[38;5;241m*\u001b[39mkwargs)\n",
      "File \u001b[1;32m~\\anaconda3\\Lib\\site-packages\\numpy\\core\\_methods.py:194\u001b[0m, in \u001b[0;36m_mean\u001b[1;34m(a, axis, dtype, out, keepdims, where)\u001b[0m\n\u001b[0;32m    192\u001b[0m         ret \u001b[38;5;241m=\u001b[39m ret\u001b[38;5;241m.\u001b[39mdtype\u001b[38;5;241m.\u001b[39mtype(ret \u001b[38;5;241m/\u001b[39m rcount)\n\u001b[0;32m    193\u001b[0m \u001b[38;5;28;01melse\u001b[39;00m:\n\u001b[1;32m--> 194\u001b[0m     ret \u001b[38;5;241m=\u001b[39m ret \u001b[38;5;241m/\u001b[39m rcount\n\u001b[0;32m    196\u001b[0m \u001b[38;5;28;01mreturn\u001b[39;00m ret\n",
      "\u001b[1;31mTypeError\u001b[0m: unsupported operand type(s) for /: 'NoneType' and 'int'"
     ]
    }
   ],
   "source": [
    "np.mean(bestscores)\n",
    "print(\"cv = \" + str(np.mean(bestscores)))"
   ]
  },
  {
   "cell_type": "markdown",
   "id": "1b4b4a8e",
   "metadata": {
    "papermill": {
     "duration": 0.086438,
     "end_time": "2023-12-01T03:23:32.164961",
     "exception": false,
     "start_time": "2023-12-01T03:23:32.078523",
     "status": "completed"
    },
    "tags": []
   },
   "source": [
    "# def predicting\n",
    "not use saved models"
   ]
  },
  {
   "cell_type": "code",
   "execution_count": 41,
   "id": "c8555b44",
   "metadata": {
    "execution": {
     "iopub.execute_input": "2023-12-01T03:23:32.342738Z",
     "iopub.status.busy": "2023-12-01T03:23:32.341687Z",
     "iopub.status.idle": "2023-12-01T03:23:32.347921Z",
     "shell.execute_reply": "2023-12-01T03:23:32.347353Z"
    },
    "papermill": {
     "duration": 0.097032,
     "end_time": "2023-12-01T03:23:32.349871",
     "exception": false,
     "start_time": "2023-12-01T03:23:32.252839",
     "status": "completed"
    },
    "tags": []
   },
   "outputs": [],
   "source": [
    "def predicting(test_dataloader,model):\n",
    "    \n",
    "    model.to(device)\n",
    "    model.eval()   \n",
    "    allpreds = []\n",
    "    preds = []\n",
    "    allvalloss=0\n",
    "\n",
    "    with torch.no_grad():\n",
    "        for a in test_dataloader:\n",
    "\n",
    "            ids = a[\"ids\"].to(device)\n",
    "            mask = a[\"mask\"].to(device)\n",
    "\n",
    "            output = model(ids,mask)\n",
    "            output = output[\"logits\"].squeeze(-1)\n",
    "            preds.append(output.cpu().numpy())\n",
    "\n",
    "        preds = np.concatenate(preds)\n",
    "        allpreds.append(preds)\n",
    "\n",
    "    return allpreds"
   ]
  },
  {
   "cell_type": "markdown",
   "id": "fdde1016",
   "metadata": {
    "papermill": {
     "duration": 0.08653,
     "end_time": "2023-12-01T03:23:32.520721",
     "exception": false,
     "start_time": "2023-12-01T03:23:32.434191",
     "status": "completed"
    },
    "tags": []
   },
   "source": [
    "# def predicting2\n",
    "use saved models"
   ]
  },
  {
   "cell_type": "markdown",
   "id": "ee474068",
   "metadata": {
    "_kg_hide-output": true,
    "execution": {
     "iopub.execute_input": "2023-06-28T07:40:50.823354Z",
     "iopub.status.busy": "2023-06-28T07:40:50.822311Z",
     "iopub.status.idle": "2023-06-28T07:40:53.044648Z",
     "shell.execute_reply": "2023-06-28T07:40:53.043655Z"
    },
    "papermill": {
     "duration": 0.087184,
     "end_time": "2023-12-01T03:23:32.693979",
     "exception": false,
     "start_time": "2023-12-01T03:23:32.606795",
     "status": "completed"
    },
    "tags": []
   },
   "source": [
    "    #model initialized\n",
    "    model = transformers.RobertaForSequenceClassification.from_pretrained(\"roberta-base\",num_labels=1)\n",
    "\n",
    "    pthes = [os.path.join(\"./\",s) for s in os.listdir(\"./\") if \".pth\" in s]\n",
    "\n",
    "    def predicting2(\n",
    "        test_dataloader,\n",
    "        model,\n",
    "        pthes \n",
    "    ):\n",
    "\n",
    "        allpreds = []    \n",
    "        for pth in pthes:\n",
    "\n",
    "            state = torch.load(pth)        \n",
    "            model.load_state_dict(state[\"state_dict\"])\n",
    "            model.to(device)\n",
    "            model.eval()      \n",
    "            preds = []\n",
    "            allvalloss=0\n",
    "\n",
    "            with torch.no_grad():\n",
    "\n",
    "                for a in test_dataloader:\n",
    "\n",
    "                    ids = a[\"ids\"].to(device)\n",
    "                    mask = a[\"mask\"].to(device)\n",
    "\n",
    "                    output = model(ids,mask)\n",
    "                    output = output[\"logits\"].squeeze(-1)\n",
    "                    preds.append(output.cpu().numpy())\n",
    "\n",
    "                preds = np.concatenate(preds)           \n",
    "                allpreds.append(preds)\n",
    "\n",
    "        return allpreds"
   ]
  },
  {
   "cell_type": "markdown",
   "id": "04778bd9",
   "metadata": {
    "papermill": {
     "duration": 0.088703,
     "end_time": "2023-12-01T03:23:32.868804",
     "exception": false,
     "start_time": "2023-12-01T03:23:32.780101",
     "status": "completed"
    },
    "tags": []
   },
   "source": [
    "# predicting"
   ]
  },
  {
   "cell_type": "code",
   "execution_count": 42,
   "id": "448fa687",
   "metadata": {
    "execution": {
     "iopub.execute_input": "2023-12-01T03:23:33.057742Z",
     "iopub.status.busy": "2023-12-01T03:23:33.056859Z",
     "iopub.status.idle": "2023-12-01T03:23:36.073521Z",
     "shell.execute_reply": "2023-12-01T03:23:36.071413Z"
    },
    "papermill": {
     "duration": 3.111133,
     "end_time": "2023-12-01T03:23:36.076597",
     "exception": false,
     "start_time": "2023-12-01T03:23:32.965464",
     "status": "completed"
    },
    "scrolled": true,
    "tags": []
   },
   "outputs": [
    {
     "ename": "NameError",
     "evalue": "name 'test_dataloader' is not defined",
     "output_type": "error",
     "traceback": [
      "\u001b[1;31m---------------------------------------------------------------------------\u001b[0m",
      "\u001b[1;31mNameError\u001b[0m                                 Traceback (most recent call last)",
      "Cell \u001b[1;32mIn[42], line 1\u001b[0m\n\u001b[1;32m----> 1\u001b[0m tpreds \u001b[38;5;241m=\u001b[39m predicting(test_dataloader,model)\n",
      "\u001b[1;31mNameError\u001b[0m: name 'test_dataloader' is not defined"
     ]
    }
   ],
   "source": [
    "tpreds = predicting(test_dataloader,model)\n",
    "#tpreds = predicting2(test_dataloader,model,pthes)"
   ]
  },
  {
   "cell_type": "code",
   "execution_count": 43,
   "id": "83a7a607",
   "metadata": {
    "execution": {
     "iopub.execute_input": "2023-12-01T03:23:36.255968Z",
     "iopub.status.busy": "2023-12-01T03:23:36.255546Z",
     "iopub.status.idle": "2023-12-01T03:23:36.272540Z",
     "shell.execute_reply": "2023-12-01T03:23:36.271374Z"
    },
    "papermill": {
     "duration": 0.109982,
     "end_time": "2023-12-01T03:23:36.274609",
     "exception": false,
     "start_time": "2023-12-01T03:23:36.164627",
     "status": "completed"
    },
    "tags": []
   },
   "outputs": [
    {
     "ename": "NameError",
     "evalue": "name 'p_test' is not defined",
     "output_type": "error",
     "traceback": [
      "\u001b[1;31m---------------------------------------------------------------------------\u001b[0m",
      "\u001b[1;31mNameError\u001b[0m                                 Traceback (most recent call last)",
      "Cell \u001b[1;32mIn[43], line 1\u001b[0m\n\u001b[1;32m----> 1\u001b[0m test_true \u001b[38;5;241m=\u001b[39m p_test[\u001b[38;5;124m'\u001b[39m\u001b[38;5;124mtargets\u001b[39m\u001b[38;5;124m'\u001b[39m]\n\u001b[0;32m      2\u001b[0m test_pred \u001b[38;5;241m=\u001b[39m []\n\u001b[0;32m      3\u001b[0m \u001b[38;5;28;01mfor\u001b[39;00m p \u001b[38;5;129;01min\u001b[39;00m tpreds[\u001b[38;5;241m0\u001b[39m]:\n",
      "\u001b[1;31mNameError\u001b[0m: name 'p_test' is not defined"
     ]
    }
   ],
   "source": [
    "test_true = p_test['targets']\n",
    "test_pred = []\n",
    "for p in tpreds[0]:\n",
    "    test_pred+=[round(p,0)]\n",
    "\n",
    "from sklearn.metrics import classification_report\n",
    "print(classification_report(test_true,test_pred,target_names=class_names,digits=4))"
   ]
  }
 ],
 "metadata": {
  "kaggle": {
   "accelerator": "none",
   "dataSources": [
    {
     "datasetId": 2660681,
     "sourceId": 4558602,
     "sourceType": "datasetVersion"
    }
   ],
   "dockerImageVersionId": 30513,
   "isGpuEnabled": false,
   "isInternetEnabled": true,
   "language": "python",
   "sourceType": "notebook"
  },
  "kernelspec": {
   "display_name": "Python 3 (ipykernel)",
   "language": "python",
   "name": "python3"
  },
  "language_info": {
   "codemirror_mode": {
    "name": "ipython",
    "version": 3
   },
   "file_extension": ".py",
   "mimetype": "text/x-python",
   "name": "python",
   "nbconvert_exporter": "python",
   "pygments_lexer": "ipython3",
   "version": "3.11.5"
  },
  "papermill": {
   "default_parameters": {},
   "duration": 3092.50602,
   "end_time": "2023-12-01T03:23:39.845504",
   "environment_variables": {},
   "exception": null,
   "input_path": "__notebook__.ipynb",
   "output_path": "__notebook__.ipynb",
   "parameters": {},
   "start_time": "2023-12-01T02:32:07.339484",
   "version": "2.4.0"
  },
  "widgets": {
   "application/vnd.jupyter.widget-state+json": {
    "state": {
     "09abbbad123949d8965efd1913dc38c1": {
      "model_module": "@jupyter-widgets/base",
      "model_module_version": "1.2.0",
      "model_name": "LayoutModel",
      "state": {
       "_model_module": "@jupyter-widgets/base",
       "_model_module_version": "1.2.0",
       "_model_name": "LayoutModel",
       "_view_count": null,
       "_view_module": "@jupyter-widgets/base",
       "_view_module_version": "1.2.0",
       "_view_name": "LayoutView",
       "align_content": null,
       "align_items": null,
       "align_self": null,
       "border": null,
       "bottom": null,
       "display": null,
       "flex": null,
       "flex_flow": null,
       "grid_area": null,
       "grid_auto_columns": null,
       "grid_auto_flow": null,
       "grid_auto_rows": null,
       "grid_column": null,
       "grid_gap": null,
       "grid_row": null,
       "grid_template_areas": null,
       "grid_template_columns": null,
       "grid_template_rows": null,
       "height": null,
       "justify_content": null,
       "justify_items": null,
       "left": null,
       "margin": null,
       "max_height": null,
       "max_width": null,
       "min_height": null,
       "min_width": null,
       "object_fit": null,
       "object_position": null,
       "order": null,
       "overflow": null,
       "overflow_x": null,
       "overflow_y": null,
       "padding": null,
       "right": null,
       "top": null,
       "visibility": null,
       "width": null
      }
     },
     "159a26a9256a43c99bb909d5c7033ef5": {
      "model_module": "@jupyter-widgets/controls",
      "model_module_version": "1.5.0",
      "model_name": "ProgressStyleModel",
      "state": {
       "_model_module": "@jupyter-widgets/controls",
       "_model_module_version": "1.5.0",
       "_model_name": "ProgressStyleModel",
       "_view_count": null,
       "_view_module": "@jupyter-widgets/base",
       "_view_module_version": "1.2.0",
       "_view_name": "StyleView",
       "bar_color": null,
       "description_width": ""
      }
     },
     "1897ad0cb6ec42578aeae1a39b61e9f4": {
      "model_module": "@jupyter-widgets/controls",
      "model_module_version": "1.5.0",
      "model_name": "HBoxModel",
      "state": {
       "_dom_classes": [],
       "_model_module": "@jupyter-widgets/controls",
       "_model_module_version": "1.5.0",
       "_model_name": "HBoxModel",
       "_view_count": null,
       "_view_module": "@jupyter-widgets/controls",
       "_view_module_version": "1.5.0",
       "_view_name": "HBoxView",
       "box_style": "",
       "children": [
        "IPY_MODEL_67987cf2af5d4a228d8145d9c87ca51a",
        "IPY_MODEL_377864a2304f4784ae6c975ebf27708f",
        "IPY_MODEL_b7e3edc80535489f9a5755e0304b6826"
       ],
       "layout": "IPY_MODEL_3852fa067f0046eeb605f0f9017eb55a"
      }
     },
     "189b1538d3ac4c4c85951d21c5f66807": {
      "model_module": "@jupyter-widgets/controls",
      "model_module_version": "1.5.0",
      "model_name": "DescriptionStyleModel",
      "state": {
       "_model_module": "@jupyter-widgets/controls",
       "_model_module_version": "1.5.0",
       "_model_name": "DescriptionStyleModel",
       "_view_count": null,
       "_view_module": "@jupyter-widgets/base",
       "_view_module_version": "1.2.0",
       "_view_name": "StyleView",
       "description_width": ""
      }
     },
     "1a44fd1eb2b845f4bd432cd4510b4589": {
      "model_module": "@jupyter-widgets/base",
      "model_module_version": "1.2.0",
      "model_name": "LayoutModel",
      "state": {
       "_model_module": "@jupyter-widgets/base",
       "_model_module_version": "1.2.0",
       "_model_name": "LayoutModel",
       "_view_count": null,
       "_view_module": "@jupyter-widgets/base",
       "_view_module_version": "1.2.0",
       "_view_name": "LayoutView",
       "align_content": null,
       "align_items": null,
       "align_self": null,
       "border": null,
       "bottom": null,
       "display": null,
       "flex": null,
       "flex_flow": null,
       "grid_area": null,
       "grid_auto_columns": null,
       "grid_auto_flow": null,
       "grid_auto_rows": null,
       "grid_column": null,
       "grid_gap": null,
       "grid_row": null,
       "grid_template_areas": null,
       "grid_template_columns": null,
       "grid_template_rows": null,
       "height": null,
       "justify_content": null,
       "justify_items": null,
       "left": null,
       "margin": null,
       "max_height": null,
       "max_width": null,
       "min_height": null,
       "min_width": null,
       "object_fit": null,
       "object_position": null,
       "order": null,
       "overflow": null,
       "overflow_x": null,
       "overflow_y": null,
       "padding": null,
       "right": null,
       "top": null,
       "visibility": null,
       "width": null
      }
     },
     "24d4e03a3a794697b4874827180b76cd": {
      "model_module": "@jupyter-widgets/base",
      "model_module_version": "1.2.0",
      "model_name": "LayoutModel",
      "state": {
       "_model_module": "@jupyter-widgets/base",
       "_model_module_version": "1.2.0",
       "_model_name": "LayoutModel",
       "_view_count": null,
       "_view_module": "@jupyter-widgets/base",
       "_view_module_version": "1.2.0",
       "_view_name": "LayoutView",
       "align_content": null,
       "align_items": null,
       "align_self": null,
       "border": null,
       "bottom": null,
       "display": null,
       "flex": null,
       "flex_flow": null,
       "grid_area": null,
       "grid_auto_columns": null,
       "grid_auto_flow": null,
       "grid_auto_rows": null,
       "grid_column": null,
       "grid_gap": null,
       "grid_row": null,
       "grid_template_areas": null,
       "grid_template_columns": null,
       "grid_template_rows": null,
       "height": null,
       "justify_content": null,
       "justify_items": null,
       "left": null,
       "margin": null,
       "max_height": null,
       "max_width": null,
       "min_height": null,
       "min_width": null,
       "object_fit": null,
       "object_position": null,
       "order": null,
       "overflow": null,
       "overflow_x": null,
       "overflow_y": null,
       "padding": null,
       "right": null,
       "top": null,
       "visibility": null,
       "width": null
      }
     },
     "289a37ea7e7c45af923f2b44f57faffc": {
      "model_module": "@jupyter-widgets/controls",
      "model_module_version": "1.5.0",
      "model_name": "FloatProgressModel",
      "state": {
       "_dom_classes": [],
       "_model_module": "@jupyter-widgets/controls",
       "_model_module_version": "1.5.0",
       "_model_name": "FloatProgressModel",
       "_view_count": null,
       "_view_module": "@jupyter-widgets/controls",
       "_view_module_version": "1.5.0",
       "_view_name": "ProgressView",
       "bar_style": "success",
       "description": "",
       "description_tooltip": null,
       "layout": "IPY_MODEL_09abbbad123949d8965efd1913dc38c1",
       "max": 760289,
       "min": 0,
       "orientation": "horizontal",
       "style": "IPY_MODEL_8909b2099bb549478e880b3e82119f1f",
       "value": 760289
      }
     },
     "302ab14a61da4b798ca77a24c11726f7": {
      "model_module": "@jupyter-widgets/base",
      "model_module_version": "1.2.0",
      "model_name": "LayoutModel",
      "state": {
       "_model_module": "@jupyter-widgets/base",
       "_model_module_version": "1.2.0",
       "_model_name": "LayoutModel",
       "_view_count": null,
       "_view_module": "@jupyter-widgets/base",
       "_view_module_version": "1.2.0",
       "_view_name": "LayoutView",
       "align_content": null,
       "align_items": null,
       "align_self": null,
       "border": null,
       "bottom": null,
       "display": null,
       "flex": null,
       "flex_flow": null,
       "grid_area": null,
       "grid_auto_columns": null,
       "grid_auto_flow": null,
       "grid_auto_rows": null,
       "grid_column": null,
       "grid_gap": null,
       "grid_row": null,
       "grid_template_areas": null,
       "grid_template_columns": null,
       "grid_template_rows": null,
       "height": null,
       "justify_content": null,
       "justify_items": null,
       "left": null,
       "margin": null,
       "max_height": null,
       "max_width": null,
       "min_height": null,
       "min_width": null,
       "object_fit": null,
       "object_position": null,
       "order": null,
       "overflow": null,
       "overflow_x": null,
       "overflow_y": null,
       "padding": null,
       "right": null,
       "top": null,
       "visibility": null,
       "width": null
      }
     },
     "326acf0202fa4192b2e8dc0c6f59a062": {
      "model_module": "@jupyter-widgets/controls",
      "model_module_version": "1.5.0",
      "model_name": "DescriptionStyleModel",
      "state": {
       "_model_module": "@jupyter-widgets/controls",
       "_model_module_version": "1.5.0",
       "_model_name": "DescriptionStyleModel",
       "_view_count": null,
       "_view_module": "@jupyter-widgets/base",
       "_view_module_version": "1.2.0",
       "_view_name": "StyleView",
       "description_width": ""
      }
     },
     "377207b6348a45a09cd39dc63fe9381c": {
      "model_module": "@jupyter-widgets/controls",
      "model_module_version": "1.5.0",
      "model_name": "DescriptionStyleModel",
      "state": {
       "_model_module": "@jupyter-widgets/controls",
       "_model_module_version": "1.5.0",
       "_model_name": "DescriptionStyleModel",
       "_view_count": null,
       "_view_module": "@jupyter-widgets/base",
       "_view_module_version": "1.2.0",
       "_view_name": "StyleView",
       "description_width": ""
      }
     },
     "377864a2304f4784ae6c975ebf27708f": {
      "model_module": "@jupyter-widgets/controls",
      "model_module_version": "1.5.0",
      "model_name": "FloatProgressModel",
      "state": {
       "_dom_classes": [],
       "_model_module": "@jupyter-widgets/controls",
       "_model_module_version": "1.5.0",
       "_model_name": "FloatProgressModel",
       "_view_count": null,
       "_view_module": "@jupyter-widgets/controls",
       "_view_module_version": "1.5.0",
       "_view_name": "ProgressView",
       "bar_style": "success",
       "description": "",
       "description_tooltip": null,
       "layout": "IPY_MODEL_b6348e896bb64841a9f09f45d3016793",
       "max": 684,
       "min": 0,
       "orientation": "horizontal",
       "style": "IPY_MODEL_fe309606fa32422fb4606118752f19b6",
       "value": 684
      }
     },
     "3852fa067f0046eeb605f0f9017eb55a": {
      "model_module": "@jupyter-widgets/base",
      "model_module_version": "1.2.0",
      "model_name": "LayoutModel",
      "state": {
       "_model_module": "@jupyter-widgets/base",
       "_model_module_version": "1.2.0",
       "_model_name": "LayoutModel",
       "_view_count": null,
       "_view_module": "@jupyter-widgets/base",
       "_view_module_version": "1.2.0",
       "_view_name": "LayoutView",
       "align_content": null,
       "align_items": null,
       "align_self": null,
       "border": null,
       "bottom": null,
       "display": null,
       "flex": null,
       "flex_flow": null,
       "grid_area": null,
       "grid_auto_columns": null,
       "grid_auto_flow": null,
       "grid_auto_rows": null,
       "grid_column": null,
       "grid_gap": null,
       "grid_row": null,
       "grid_template_areas": null,
       "grid_template_columns": null,
       "grid_template_rows": null,
       "height": null,
       "justify_content": null,
       "justify_items": null,
       "left": null,
       "margin": null,
       "max_height": null,
       "max_width": null,
       "min_height": null,
       "min_width": null,
       "object_fit": null,
       "object_position": null,
       "order": null,
       "overflow": null,
       "overflow_x": null,
       "overflow_y": null,
       "padding": null,
       "right": null,
       "top": null,
       "visibility": null,
       "width": null
      }
     },
     "58c722c945fc40a0a02299740c70d070": {
      "model_module": "@jupyter-widgets/controls",
      "model_module_version": "1.5.0",
      "model_name": "FloatProgressModel",
      "state": {
       "_dom_classes": [],
       "_model_module": "@jupyter-widgets/controls",
       "_model_module_version": "1.5.0",
       "_model_name": "FloatProgressModel",
       "_view_count": null,
       "_view_module": "@jupyter-widgets/controls",
       "_view_module_version": "1.5.0",
       "_view_name": "ProgressView",
       "bar_style": "success",
       "description": "",
       "description_tooltip": null,
       "layout": "IPY_MODEL_fe90cdf5f10f4cc8ad4b86ef889cd82f",
       "max": 47372894,
       "min": 0,
       "orientation": "horizontal",
       "style": "IPY_MODEL_159a26a9256a43c99bb909d5c7033ef5",
       "value": 47372894
      }
     },
     "67987cf2af5d4a228d8145d9c87ca51a": {
      "model_module": "@jupyter-widgets/controls",
      "model_module_version": "1.5.0",
      "model_name": "HTMLModel",
      "state": {
       "_dom_classes": [],
       "_model_module": "@jupyter-widgets/controls",
       "_model_module_version": "1.5.0",
       "_model_name": "HTMLModel",
       "_view_count": null,
       "_view_module": "@jupyter-widgets/controls",
       "_view_module_version": "1.5.0",
       "_view_name": "HTMLView",
       "description": "",
       "description_tooltip": null,
       "layout": "IPY_MODEL_24d4e03a3a794697b4874827180b76cd",
       "placeholder": "​",
       "style": "IPY_MODEL_6cb2e9b4fdcd497b9da41c1ba81866ac",
       "value": "Downloading config.json: 100%"
      }
     },
     "6cb2e9b4fdcd497b9da41c1ba81866ac": {
      "model_module": "@jupyter-widgets/controls",
      "model_module_version": "1.5.0",
      "model_name": "DescriptionStyleModel",
      "state": {
       "_model_module": "@jupyter-widgets/controls",
       "_model_module_version": "1.5.0",
       "_model_name": "DescriptionStyleModel",
       "_view_count": null,
       "_view_module": "@jupyter-widgets/base",
       "_view_module_version": "1.2.0",
       "_view_name": "StyleView",
       "description_width": ""
      }
     },
     "6e2e5f35a69045cc85d568f2fcf3ce21": {
      "model_module": "@jupyter-widgets/base",
      "model_module_version": "1.2.0",
      "model_name": "LayoutModel",
      "state": {
       "_model_module": "@jupyter-widgets/base",
       "_model_module_version": "1.2.0",
       "_model_name": "LayoutModel",
       "_view_count": null,
       "_view_module": "@jupyter-widgets/base",
       "_view_module_version": "1.2.0",
       "_view_name": "LayoutView",
       "align_content": null,
       "align_items": null,
       "align_self": null,
       "border": null,
       "bottom": null,
       "display": null,
       "flex": null,
       "flex_flow": null,
       "grid_area": null,
       "grid_auto_columns": null,
       "grid_auto_flow": null,
       "grid_auto_rows": null,
       "grid_column": null,
       "grid_gap": null,
       "grid_row": null,
       "grid_template_areas": null,
       "grid_template_columns": null,
       "grid_template_rows": null,
       "height": null,
       "justify_content": null,
       "justify_items": null,
       "left": null,
       "margin": null,
       "max_height": null,
       "max_width": null,
       "min_height": null,
       "min_width": null,
       "object_fit": null,
       "object_position": null,
       "order": null,
       "overflow": null,
       "overflow_x": null,
       "overflow_y": null,
       "padding": null,
       "right": null,
       "top": null,
       "visibility": null,
       "width": null
      }
     },
     "8442341f36ba437cb71fc07396f77b84": {
      "model_module": "@jupyter-widgets/controls",
      "model_module_version": "1.5.0",
      "model_name": "HTMLModel",
      "state": {
       "_dom_classes": [],
       "_model_module": "@jupyter-widgets/controls",
       "_model_module_version": "1.5.0",
       "_model_name": "HTMLModel",
       "_view_count": null,
       "_view_module": "@jupyter-widgets/controls",
       "_view_module_version": "1.5.0",
       "_view_name": "HTMLView",
       "description": "",
       "description_tooltip": null,
       "layout": "IPY_MODEL_c45605174485489388bf1509455affad",
       "placeholder": "​",
       "style": "IPY_MODEL_189b1538d3ac4c4c85951d21c5f66807",
       "value": "Downloading spiece.model: 100%"
      }
     },
     "8909b2099bb549478e880b3e82119f1f": {
      "model_module": "@jupyter-widgets/controls",
      "model_module_version": "1.5.0",
      "model_name": "ProgressStyleModel",
      "state": {
       "_model_module": "@jupyter-widgets/controls",
       "_model_module_version": "1.5.0",
       "_model_name": "ProgressStyleModel",
       "_view_count": null,
       "_view_module": "@jupyter-widgets/base",
       "_view_module_version": "1.2.0",
       "_view_name": "StyleView",
       "bar_color": null,
       "description_width": ""
      }
     },
     "9459d41e478a4e6f9805349d57efb596": {
      "model_module": "@jupyter-widgets/base",
      "model_module_version": "1.2.0",
      "model_name": "LayoutModel",
      "state": {
       "_model_module": "@jupyter-widgets/base",
       "_model_module_version": "1.2.0",
       "_model_name": "LayoutModel",
       "_view_count": null,
       "_view_module": "@jupyter-widgets/base",
       "_view_module_version": "1.2.0",
       "_view_name": "LayoutView",
       "align_content": null,
       "align_items": null,
       "align_self": null,
       "border": null,
       "bottom": null,
       "display": null,
       "flex": null,
       "flex_flow": null,
       "grid_area": null,
       "grid_auto_columns": null,
       "grid_auto_flow": null,
       "grid_auto_rows": null,
       "grid_column": null,
       "grid_gap": null,
       "grid_row": null,
       "grid_template_areas": null,
       "grid_template_columns": null,
       "grid_template_rows": null,
       "height": null,
       "justify_content": null,
       "justify_items": null,
       "left": null,
       "margin": null,
       "max_height": null,
       "max_width": null,
       "min_height": null,
       "min_width": null,
       "object_fit": null,
       "object_position": null,
       "order": null,
       "overflow": null,
       "overflow_x": null,
       "overflow_y": null,
       "padding": null,
       "right": null,
       "top": null,
       "visibility": null,
       "width": null
      }
     },
     "a71b2bcd11054012b3308ec0e70bdf86": {
      "model_module": "@jupyter-widgets/controls",
      "model_module_version": "1.5.0",
      "model_name": "DescriptionStyleModel",
      "state": {
       "_model_module": "@jupyter-widgets/controls",
       "_model_module_version": "1.5.0",
       "_model_name": "DescriptionStyleModel",
       "_view_count": null,
       "_view_module": "@jupyter-widgets/base",
       "_view_module_version": "1.2.0",
       "_view_name": "StyleView",
       "description_width": ""
      }
     },
     "b6348e896bb64841a9f09f45d3016793": {
      "model_module": "@jupyter-widgets/base",
      "model_module_version": "1.2.0",
      "model_name": "LayoutModel",
      "state": {
       "_model_module": "@jupyter-widgets/base",
       "_model_module_version": "1.2.0",
       "_model_name": "LayoutModel",
       "_view_count": null,
       "_view_module": "@jupyter-widgets/base",
       "_view_module_version": "1.2.0",
       "_view_name": "LayoutView",
       "align_content": null,
       "align_items": null,
       "align_self": null,
       "border": null,
       "bottom": null,
       "display": null,
       "flex": null,
       "flex_flow": null,
       "grid_area": null,
       "grid_auto_columns": null,
       "grid_auto_flow": null,
       "grid_auto_rows": null,
       "grid_column": null,
       "grid_gap": null,
       "grid_row": null,
       "grid_template_areas": null,
       "grid_template_columns": null,
       "grid_template_rows": null,
       "height": null,
       "justify_content": null,
       "justify_items": null,
       "left": null,
       "margin": null,
       "max_height": null,
       "max_width": null,
       "min_height": null,
       "min_width": null,
       "object_fit": null,
       "object_position": null,
       "order": null,
       "overflow": null,
       "overflow_x": null,
       "overflow_y": null,
       "padding": null,
       "right": null,
       "top": null,
       "visibility": null,
       "width": null
      }
     },
     "b7e3edc80535489f9a5755e0304b6826": {
      "model_module": "@jupyter-widgets/controls",
      "model_module_version": "1.5.0",
      "model_name": "HTMLModel",
      "state": {
       "_dom_classes": [],
       "_model_module": "@jupyter-widgets/controls",
       "_model_module_version": "1.5.0",
       "_model_name": "HTMLModel",
       "_view_count": null,
       "_view_module": "@jupyter-widgets/controls",
       "_view_module_version": "1.5.0",
       "_view_name": "HTMLView",
       "description": "",
       "description_tooltip": null,
       "layout": "IPY_MODEL_302ab14a61da4b798ca77a24c11726f7",
       "placeholder": "​",
       "style": "IPY_MODEL_d24e39a7e74d4419966b94c56782ba87",
       "value": " 684/684 [00:00&lt;00:00, 57.2kB/s]"
      }
     },
     "b9674367935c46afbe92536d7612dba8": {
      "model_module": "@jupyter-widgets/base",
      "model_module_version": "1.2.0",
      "model_name": "LayoutModel",
      "state": {
       "_model_module": "@jupyter-widgets/base",
       "_model_module_version": "1.2.0",
       "_model_name": "LayoutModel",
       "_view_count": null,
       "_view_module": "@jupyter-widgets/base",
       "_view_module_version": "1.2.0",
       "_view_name": "LayoutView",
       "align_content": null,
       "align_items": null,
       "align_self": null,
       "border": null,
       "bottom": null,
       "display": null,
       "flex": null,
       "flex_flow": null,
       "grid_area": null,
       "grid_auto_columns": null,
       "grid_auto_flow": null,
       "grid_auto_rows": null,
       "grid_column": null,
       "grid_gap": null,
       "grid_row": null,
       "grid_template_areas": null,
       "grid_template_columns": null,
       "grid_template_rows": null,
       "height": null,
       "justify_content": null,
       "justify_items": null,
       "left": null,
       "margin": null,
       "max_height": null,
       "max_width": null,
       "min_height": null,
       "min_width": null,
       "object_fit": null,
       "object_position": null,
       "order": null,
       "overflow": null,
       "overflow_x": null,
       "overflow_y": null,
       "padding": null,
       "right": null,
       "top": null,
       "visibility": null,
       "width": null
      }
     },
     "bf6454a675514199bfabf8ba985b044a": {
      "model_module": "@jupyter-widgets/base",
      "model_module_version": "1.2.0",
      "model_name": "LayoutModel",
      "state": {
       "_model_module": "@jupyter-widgets/base",
       "_model_module_version": "1.2.0",
       "_model_name": "LayoutModel",
       "_view_count": null,
       "_view_module": "@jupyter-widgets/base",
       "_view_module_version": "1.2.0",
       "_view_name": "LayoutView",
       "align_content": null,
       "align_items": null,
       "align_self": null,
       "border": null,
       "bottom": null,
       "display": null,
       "flex": null,
       "flex_flow": null,
       "grid_area": null,
       "grid_auto_columns": null,
       "grid_auto_flow": null,
       "grid_auto_rows": null,
       "grid_column": null,
       "grid_gap": null,
       "grid_row": null,
       "grid_template_areas": null,
       "grid_template_columns": null,
       "grid_template_rows": null,
       "height": null,
       "justify_content": null,
       "justify_items": null,
       "left": null,
       "margin": null,
       "max_height": null,
       "max_width": null,
       "min_height": null,
       "min_width": null,
       "object_fit": null,
       "object_position": null,
       "order": null,
       "overflow": null,
       "overflow_x": null,
       "overflow_y": null,
       "padding": null,
       "right": null,
       "top": null,
       "visibility": null,
       "width": null
      }
     },
     "c45605174485489388bf1509455affad": {
      "model_module": "@jupyter-widgets/base",
      "model_module_version": "1.2.0",
      "model_name": "LayoutModel",
      "state": {
       "_model_module": "@jupyter-widgets/base",
       "_model_module_version": "1.2.0",
       "_model_name": "LayoutModel",
       "_view_count": null,
       "_view_module": "@jupyter-widgets/base",
       "_view_module_version": "1.2.0",
       "_view_name": "LayoutView",
       "align_content": null,
       "align_items": null,
       "align_self": null,
       "border": null,
       "bottom": null,
       "display": null,
       "flex": null,
       "flex_flow": null,
       "grid_area": null,
       "grid_auto_columns": null,
       "grid_auto_flow": null,
       "grid_auto_rows": null,
       "grid_column": null,
       "grid_gap": null,
       "grid_row": null,
       "grid_template_areas": null,
       "grid_template_columns": null,
       "grid_template_rows": null,
       "height": null,
       "justify_content": null,
       "justify_items": null,
       "left": null,
       "margin": null,
       "max_height": null,
       "max_width": null,
       "min_height": null,
       "min_width": null,
       "object_fit": null,
       "object_position": null,
       "order": null,
       "overflow": null,
       "overflow_x": null,
       "overflow_y": null,
       "padding": null,
       "right": null,
       "top": null,
       "visibility": null,
       "width": null
      }
     },
     "c793be53af59407bb90066ec38700240": {
      "model_module": "@jupyter-widgets/controls",
      "model_module_version": "1.5.0",
      "model_name": "HBoxModel",
      "state": {
       "_dom_classes": [],
       "_model_module": "@jupyter-widgets/controls",
       "_model_module_version": "1.5.0",
       "_model_name": "HBoxModel",
       "_view_count": null,
       "_view_module": "@jupyter-widgets/controls",
       "_view_module_version": "1.5.0",
       "_view_name": "HBoxView",
       "box_style": "",
       "children": [
        "IPY_MODEL_cf4adf064eda46a5be86ca42cbdaa520",
        "IPY_MODEL_58c722c945fc40a0a02299740c70d070",
        "IPY_MODEL_e2251de659c4432f8e8bd473e904962a"
       ],
       "layout": "IPY_MODEL_1a44fd1eb2b845f4bd432cd4510b4589"
      }
     },
     "cf3a9947130041cdb6ca7367895f45f1": {
      "model_module": "@jupyter-widgets/controls",
      "model_module_version": "1.5.0",
      "model_name": "HTMLModel",
      "state": {
       "_dom_classes": [],
       "_model_module": "@jupyter-widgets/controls",
       "_model_module_version": "1.5.0",
       "_model_name": "HTMLModel",
       "_view_count": null,
       "_view_module": "@jupyter-widgets/controls",
       "_view_module_version": "1.5.0",
       "_view_name": "HTMLView",
       "description": "",
       "description_tooltip": null,
       "layout": "IPY_MODEL_9459d41e478a4e6f9805349d57efb596",
       "placeholder": "​",
       "style": "IPY_MODEL_326acf0202fa4192b2e8dc0c6f59a062",
       "value": " 760k/760k [00:00&lt;00:00, 2.34MB/s]"
      }
     },
     "cf4adf064eda46a5be86ca42cbdaa520": {
      "model_module": "@jupyter-widgets/controls",
      "model_module_version": "1.5.0",
      "model_name": "HTMLModel",
      "state": {
       "_dom_classes": [],
       "_model_module": "@jupyter-widgets/controls",
       "_model_module_version": "1.5.0",
       "_model_name": "HTMLModel",
       "_view_count": null,
       "_view_module": "@jupyter-widgets/controls",
       "_view_module_version": "1.5.0",
       "_view_name": "HTMLView",
       "description": "",
       "description_tooltip": null,
       "layout": "IPY_MODEL_6e2e5f35a69045cc85d568f2fcf3ce21",
       "placeholder": "​",
       "style": "IPY_MODEL_a71b2bcd11054012b3308ec0e70bdf86",
       "value": "Downloading model.safetensors: 100%"
      }
     },
     "d24e39a7e74d4419966b94c56782ba87": {
      "model_module": "@jupyter-widgets/controls",
      "model_module_version": "1.5.0",
      "model_name": "DescriptionStyleModel",
      "state": {
       "_model_module": "@jupyter-widgets/controls",
       "_model_module_version": "1.5.0",
       "_model_name": "DescriptionStyleModel",
       "_view_count": null,
       "_view_module": "@jupyter-widgets/base",
       "_view_module_version": "1.2.0",
       "_view_name": "StyleView",
       "description_width": ""
      }
     },
     "e2251de659c4432f8e8bd473e904962a": {
      "model_module": "@jupyter-widgets/controls",
      "model_module_version": "1.5.0",
      "model_name": "HTMLModel",
      "state": {
       "_dom_classes": [],
       "_model_module": "@jupyter-widgets/controls",
       "_model_module_version": "1.5.0",
       "_model_name": "HTMLModel",
       "_view_count": null,
       "_view_module": "@jupyter-widgets/controls",
       "_view_module_version": "1.5.0",
       "_view_name": "HTMLView",
       "description": "",
       "description_tooltip": null,
       "layout": "IPY_MODEL_b9674367935c46afbe92536d7612dba8",
       "placeholder": "​",
       "style": "IPY_MODEL_377207b6348a45a09cd39dc63fe9381c",
       "value": " 47.4M/47.4M [00:00&lt;00:00, 162MB/s]"
      }
     },
     "ead12d27cb584420a8ab858b8fd0ccd3": {
      "model_module": "@jupyter-widgets/controls",
      "model_module_version": "1.5.0",
      "model_name": "HBoxModel",
      "state": {
       "_dom_classes": [],
       "_model_module": "@jupyter-widgets/controls",
       "_model_module_version": "1.5.0",
       "_model_name": "HBoxModel",
       "_view_count": null,
       "_view_module": "@jupyter-widgets/controls",
       "_view_module_version": "1.5.0",
       "_view_name": "HBoxView",
       "box_style": "",
       "children": [
        "IPY_MODEL_8442341f36ba437cb71fc07396f77b84",
        "IPY_MODEL_289a37ea7e7c45af923f2b44f57faffc",
        "IPY_MODEL_cf3a9947130041cdb6ca7367895f45f1"
       ],
       "layout": "IPY_MODEL_bf6454a675514199bfabf8ba985b044a"
      }
     },
     "fe309606fa32422fb4606118752f19b6": {
      "model_module": "@jupyter-widgets/controls",
      "model_module_version": "1.5.0",
      "model_name": "ProgressStyleModel",
      "state": {
       "_model_module": "@jupyter-widgets/controls",
       "_model_module_version": "1.5.0",
       "_model_name": "ProgressStyleModel",
       "_view_count": null,
       "_view_module": "@jupyter-widgets/base",
       "_view_module_version": "1.2.0",
       "_view_name": "StyleView",
       "bar_color": null,
       "description_width": ""
      }
     },
     "fe90cdf5f10f4cc8ad4b86ef889cd82f": {
      "model_module": "@jupyter-widgets/base",
      "model_module_version": "1.2.0",
      "model_name": "LayoutModel",
      "state": {
       "_model_module": "@jupyter-widgets/base",
       "_model_module_version": "1.2.0",
       "_model_name": "LayoutModel",
       "_view_count": null,
       "_view_module": "@jupyter-widgets/base",
       "_view_module_version": "1.2.0",
       "_view_name": "LayoutView",
       "align_content": null,
       "align_items": null,
       "align_self": null,
       "border": null,
       "bottom": null,
       "display": null,
       "flex": null,
       "flex_flow": null,
       "grid_area": null,
       "grid_auto_columns": null,
       "grid_auto_flow": null,
       "grid_auto_rows": null,
       "grid_column": null,
       "grid_gap": null,
       "grid_row": null,
       "grid_template_areas": null,
       "grid_template_columns": null,
       "grid_template_rows": null,
       "height": null,
       "justify_content": null,
       "justify_items": null,
       "left": null,
       "margin": null,
       "max_height": null,
       "max_width": null,
       "min_height": null,
       "min_width": null,
       "object_fit": null,
       "object_position": null,
       "order": null,
       "overflow": null,
       "overflow_x": null,
       "overflow_y": null,
       "padding": null,
       "right": null,
       "top": null,
       "visibility": null,
       "width": null
      }
     }
    },
    "version_major": 2,
    "version_minor": 0
   }
  }
 },
 "nbformat": 4,
 "nbformat_minor": 5
}
